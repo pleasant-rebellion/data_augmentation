{
 "cells": [
  {
   "cell_type": "code",
   "execution_count": 64,
   "id": "e192c6d2-e5f3-4fd8-a5b7-f0992ca26e5e",
   "metadata": {},
   "outputs": [
    {
     "data": {
      "application/vnd.jupyter.widget-view+json": {
       "model_id": "3d2d140b03984a78a73494210519f814",
       "version_major": 2,
       "version_minor": 0
      },
      "text/plain": [
       "HBox(children=(HTML(value=''), FloatProgress(value=1.0, bar_style='info', layout=Layout(width='20px'), max=1.0…"
      ]
     },
     "metadata": {},
     "output_type": "display_data"
    },
    {
     "name": "stdout",
     "output_type": "stream",
     "text": [
      "\n"
     ]
    }
   ],
   "source": [
    "relation_class = ['no_relation', 'org:top_members/employees', 'org:members',\n",
    "        'org:product', 'per:title', 'org:alternate_names',\n",
    "        'per:employee_of', 'org:place_of_headquarters', 'per:product',\n",
    "        'org:number_of_employees/members', 'per:children',\n",
    "        'per:place_of_residence', 'per:alternate_names',\n",
    "        'per:other_family', 'per:colleagues', 'per:origin', 'per:siblings',\n",
    "        'per:spouse', 'org:founded', 'org:political/religious_affiliation',\n",
    "        'org:member_of', 'per:parents', 'org:dissolved',\n",
    "        'per:schools_attended', 'per:date_of_death', 'per:date_of_birth',\n",
    "        'per:place_of_birth', 'per:place_of_death', 'org:founded_by',\n",
    "        'per:religion']\n",
    "\n",
    "type_class = ['ORG/ORG','ORG/PER','ORG/DAT','ORG/LOC','ORG/POH','ORG/NOH',\n",
    "              'PER/ORG','PER/PER','PER/DAT','PER/LOC','PER/POH','PER/NOH']\n",
    "\n",
    "from tqdm.notebook import tqdm\n",
    "# relation_book[relation_class][type_class][random]\n",
    "relation_book = []\n",
    "\n",
    "df = df_vanila_temp\n",
    "\n",
    "for _, relation_name in tqdm(enumerate(relation_class)) :\n",
    "    temp_list = []\n",
    "    temp_df = df[df['label'] == str(relation_name) ][['subject_entity','object_entity','subject_type','object_type', 'label']]\n",
    "    \n",
    "    for _ , type_name in enumerate(type_class) : \n",
    "        temp_list2 = []\n",
    "        temp_df2 = temp_df[temp_df['subject_type'] + '/' + temp_df['object_type'] == str(type_name)][['subject_entity','object_entity']]\n",
    "        temp_df2_idx_list = list(temp_df2.index)\n",
    "        \n",
    "        for i in temp_df2_idx_list : \n",
    "            temp_list3 = []\n",
    "            temp_list3.append(temp_df2['subject_entity'][i])\n",
    "            temp_list3.append(temp_df2['object_entity'][i])\n",
    "            \n",
    "            temp_list2.append(temp_list3)\n",
    "        \n",
    "        temp_list.append(temp_list2)\n",
    "        \n",
    "    relation_book.append(temp_list)"
   ]
  },
  {
   "cell_type": "code",
   "execution_count": 66,
   "id": "9f01a19c-8cb5-4c8c-a130-9b98c93690e7",
   "metadata": {},
   "outputs": [],
   "source": [
    "import pandas as pd\n",
    "vanila_dataset = pd.read_csv(\"/opt/ml/dataset/train/dup_clean_train.csv\", index_col = 0, encoding = 'utf-8')\n",
    "vanila_dataset['id'] = [i for i in range(len(vanila_dataset))]\n",
    "vanila_dataset.reset_index(drop=False, inplace=True)\n",
    "vanila_dataset\n",
    "\n",
    "data= vanila_dataset\n",
    "\n",
    "sub_entity, sub_type= [], []\n",
    "obj_entity, obj_type= [], []\n",
    "sub_idx, obj_idx= [], []\n",
    "sentence= []\n",
    "\n",
    "\"\"\"preprocess\"\"\"\n",
    "for i, [x, y, z] in enumerate(zip(data['subject_entity'], data['object_entity'], data['sentence'])):\n",
    "    sub_typ= x[1:-1].split(':')[-1].split('\\'')[-2]\n",
    "    obj_typ= y[1:-1].split(':')[-1].split('\\'')[-2]\n",
    "            \n",
    "    for idx_i in range(len(x)):\n",
    "        if x[idx_i: idx_i+ 9]== 'start_idx':\n",
    "            sub_start= int(x[idx_i+12:].split(',')[0].strip())\n",
    "        if x[idx_i: idx_i+7]== 'end_idx':\n",
    "            sub_end= int(x[idx_i+10:].split(',')[0].strip())\n",
    "                \n",
    "        if y[idx_i: idx_i+ 9]== 'start_idx':\n",
    "            obj_start= int(y[idx_i+12:].split(',')[0].strip())\n",
    "        if y[idx_i: idx_i+7]== 'end_idx':\n",
    "            obj_end= int(y[idx_i+10:].split(',')[0].strip())\n",
    "\n",
    "    sub_i= [sub_start, sub_end]\n",
    "    obj_i= [obj_start, obj_end]\n",
    "\n",
    "    sub_entity.append(z[sub_i[0]: sub_i[1]+1])\n",
    "    obj_entity.append(z[obj_i[0]: obj_i[1]+1])\n",
    "    sub_type.append(sub_typ); sub_idx.append(sub_i)\n",
    "    obj_type.append(obj_typ); obj_idx.append(obj_i)\n",
    "        \n",
    "    sentence.append(z)\n",
    "df_vanila_temp = pd.DataFrame({'id': data['id'], 'sentence' : sentence, 'subject_entity': sub_entity, 'object_entity': obj_entity,\n",
    "                        'subject_type': sub_type, 'object_type': obj_type, 'label': data['label'],\n",
    "                        'subject_idx': sub_idx, 'object_idx': obj_idx})"
   ]
  },
  {
   "cell_type": "code",
   "execution_count": 35,
   "id": "18e2498c-eaea-4aa1-8af0-e620206cf895",
   "metadata": {},
   "outputs": [
    {
     "data": {
      "text/html": [
       "<div>\n",
       "<style scoped>\n",
       "    .dataframe tbody tr th:only-of-type {\n",
       "        vertical-align: middle;\n",
       "    }\n",
       "\n",
       "    .dataframe tbody tr th {\n",
       "        vertical-align: top;\n",
       "    }\n",
       "\n",
       "    .dataframe thead th {\n",
       "        text-align: right;\n",
       "    }\n",
       "</style>\n",
       "<table border=\"1\" class=\"dataframe\">\n",
       "  <thead>\n",
       "    <tr style=\"text-align: right;\">\n",
       "      <th></th>\n",
       "      <th>id</th>\n",
       "      <th>sentence</th>\n",
       "      <th>subject_entity</th>\n",
       "      <th>object_entity</th>\n",
       "      <th>subject_type</th>\n",
       "      <th>object_type</th>\n",
       "      <th>label</th>\n",
       "      <th>subject_idx</th>\n",
       "      <th>object_idx</th>\n",
       "    </tr>\n",
       "  </thead>\n",
       "  <tbody>\n",
       "    <tr>\n",
       "      <th>0</th>\n",
       "      <td>0</td>\n",
       "      <td>〈Something〉는 조지 해리슨이 쓰고 비틀즈가 1969년 앨범 《Abbey R...</td>\n",
       "      <td>비틀즈</td>\n",
       "      <td>조지 해리슨</td>\n",
       "      <td>ORG</td>\n",
       "      <td>PER</td>\n",
       "      <td>no_relation</td>\n",
       "      <td>[24, 26]</td>\n",
       "      <td>[13, 18]</td>\n",
       "    </tr>\n",
       "    <tr>\n",
       "      <th>1</th>\n",
       "      <td>1</td>\n",
       "      <td>호남이 기반인 바른미래당·대안신당·민주평화당이 우여곡절 끝에 합당해 민생당(가칭)으...</td>\n",
       "      <td>민주평화당</td>\n",
       "      <td>대안신당</td>\n",
       "      <td>ORG</td>\n",
       "      <td>ORG</td>\n",
       "      <td>no_relation</td>\n",
       "      <td>[19, 23]</td>\n",
       "      <td>[14, 17]</td>\n",
       "    </tr>\n",
       "    <tr>\n",
       "      <th>2</th>\n",
       "      <td>2</td>\n",
       "      <td>K리그2에서 성적 1위를 달리고 있는 광주FC는 지난 26일 한국프로축구연맹으로부터...</td>\n",
       "      <td>광주FC</td>\n",
       "      <td>한국프로축구연맹</td>\n",
       "      <td>ORG</td>\n",
       "      <td>ORG</td>\n",
       "      <td>org:member_of</td>\n",
       "      <td>[21, 24]</td>\n",
       "      <td>[34, 41]</td>\n",
       "    </tr>\n",
       "    <tr>\n",
       "      <th>3</th>\n",
       "      <td>3</td>\n",
       "      <td>균일가 생활용품점 (주)아성다이소(대표 박정부)는 코로나19 바이러스로 어려움을 겪...</td>\n",
       "      <td>아성다이소</td>\n",
       "      <td>박정부</td>\n",
       "      <td>ORG</td>\n",
       "      <td>PER</td>\n",
       "      <td>org:top_members/employees</td>\n",
       "      <td>[13, 17]</td>\n",
       "      <td>[22, 24]</td>\n",
       "    </tr>\n",
       "    <tr>\n",
       "      <th>4</th>\n",
       "      <td>4</td>\n",
       "      <td>1967년 프로 야구 드래프트 1순위로 요미우리 자이언츠에게 입단하면서 등번호는 8...</td>\n",
       "      <td>요미우리 자이언츠</td>\n",
       "      <td>1967</td>\n",
       "      <td>ORG</td>\n",
       "      <td>DAT</td>\n",
       "      <td>no_relation</td>\n",
       "      <td>[22, 30]</td>\n",
       "      <td>[0, 3]</td>\n",
       "    </tr>\n",
       "    <tr>\n",
       "      <th>...</th>\n",
       "      <td>...</td>\n",
       "      <td>...</td>\n",
       "      <td>...</td>\n",
       "      <td>...</td>\n",
       "      <td>...</td>\n",
       "      <td>...</td>\n",
       "      <td>...</td>\n",
       "      <td>...</td>\n",
       "      <td>...</td>\n",
       "    </tr>\n",
       "    <tr>\n",
       "      <th>32459</th>\n",
       "      <td>32459</td>\n",
       "      <td>한국당은 7일 오전 9시부터 오후 5시까지 진행된 원내대표 및 정책위의장 후보자 등...</td>\n",
       "      <td>유기준</td>\n",
       "      <td>부산 서구·동구</td>\n",
       "      <td>PER</td>\n",
       "      <td>LOC</td>\n",
       "      <td>per:employee_of</td>\n",
       "      <td>[93, 95]</td>\n",
       "      <td>[100, 107]</td>\n",
       "    </tr>\n",
       "    <tr>\n",
       "      <th>32460</th>\n",
       "      <td>32460</td>\n",
       "      <td>법포는 다시 최시형, 서병학, 손병희 직계인 북접과 다시 서장옥, 전봉준, 김개남을...</td>\n",
       "      <td>최시형</td>\n",
       "      <td>손병희</td>\n",
       "      <td>PER</td>\n",
       "      <td>PER</td>\n",
       "      <td>per:colleagues</td>\n",
       "      <td>[7, 9]</td>\n",
       "      <td>[17, 19]</td>\n",
       "    </tr>\n",
       "    <tr>\n",
       "      <th>32461</th>\n",
       "      <td>32461</td>\n",
       "      <td>완도군(군수 신우철)이 국토교통부에서 실시한 '2019 교통문화지수 실태조사'에서 ...</td>\n",
       "      <td>완도군</td>\n",
       "      <td>신우철</td>\n",
       "      <td>ORG</td>\n",
       "      <td>PER</td>\n",
       "      <td>org:top_members/employees</td>\n",
       "      <td>[0, 2]</td>\n",
       "      <td>[7, 9]</td>\n",
       "    </tr>\n",
       "    <tr>\n",
       "      <th>32462</th>\n",
       "      <td>32462</td>\n",
       "      <td>중앙일보, JTBC 회장을 지낸 이후 중앙홀딩스 회장, 재단법인 한반도평화만들기 이...</td>\n",
       "      <td>JTBC</td>\n",
       "      <td>중앙홀딩스</td>\n",
       "      <td>ORG</td>\n",
       "      <td>ORG</td>\n",
       "      <td>no_relation</td>\n",
       "      <td>[6, 9]</td>\n",
       "      <td>[21, 25]</td>\n",
       "    </tr>\n",
       "    <tr>\n",
       "      <th>32463</th>\n",
       "      <td>32463</td>\n",
       "      <td>화순군(군수 구충곤)은 17일 동면의 이장 20여 명이 코로나 19 예방을 위해 버...</td>\n",
       "      <td>화순군</td>\n",
       "      <td>구충곤</td>\n",
       "      <td>ORG</td>\n",
       "      <td>PER</td>\n",
       "      <td>org:top_members/employees</td>\n",
       "      <td>[0, 2]</td>\n",
       "      <td>[7, 9]</td>\n",
       "    </tr>\n",
       "  </tbody>\n",
       "</table>\n",
       "<p>32464 rows × 9 columns</p>\n",
       "</div>"
      ],
      "text/plain": [
       "          id                                           sentence  \\\n",
       "0          0  〈Something〉는 조지 해리슨이 쓰고 비틀즈가 1969년 앨범 《Abbey R...   \n",
       "1          1  호남이 기반인 바른미래당·대안신당·민주평화당이 우여곡절 끝에 합당해 민생당(가칭)으...   \n",
       "2          2  K리그2에서 성적 1위를 달리고 있는 광주FC는 지난 26일 한국프로축구연맹으로부터...   \n",
       "3          3  균일가 생활용품점 (주)아성다이소(대표 박정부)는 코로나19 바이러스로 어려움을 겪...   \n",
       "4          4  1967년 프로 야구 드래프트 1순위로 요미우리 자이언츠에게 입단하면서 등번호는 8...   \n",
       "...      ...                                                ...   \n",
       "32459  32459  한국당은 7일 오전 9시부터 오후 5시까지 진행된 원내대표 및 정책위의장 후보자 등...   \n",
       "32460  32460  법포는 다시 최시형, 서병학, 손병희 직계인 북접과 다시 서장옥, 전봉준, 김개남을...   \n",
       "32461  32461  완도군(군수 신우철)이 국토교통부에서 실시한 '2019 교통문화지수 실태조사'에서 ...   \n",
       "32462  32462  중앙일보, JTBC 회장을 지낸 이후 중앙홀딩스 회장, 재단법인 한반도평화만들기 이...   \n",
       "32463  32463  화순군(군수 구충곤)은 17일 동면의 이장 20여 명이 코로나 19 예방을 위해 버...   \n",
       "\n",
       "      subject_entity object_entity subject_type object_type  \\\n",
       "0                비틀즈        조지 해리슨          ORG         PER   \n",
       "1              민주평화당          대안신당          ORG         ORG   \n",
       "2               광주FC      한국프로축구연맹          ORG         ORG   \n",
       "3              아성다이소           박정부          ORG         PER   \n",
       "4          요미우리 자이언츠          1967          ORG         DAT   \n",
       "...              ...           ...          ...         ...   \n",
       "32459            유기준      부산 서구·동구          PER         LOC   \n",
       "32460            최시형           손병희          PER         PER   \n",
       "32461            완도군           신우철          ORG         PER   \n",
       "32462           JTBC         중앙홀딩스          ORG         ORG   \n",
       "32463            화순군           구충곤          ORG         PER   \n",
       "\n",
       "                           label subject_idx  object_idx  \n",
       "0                    no_relation    [24, 26]    [13, 18]  \n",
       "1                    no_relation    [19, 23]    [14, 17]  \n",
       "2                  org:member_of    [21, 24]    [34, 41]  \n",
       "3      org:top_members/employees    [13, 17]    [22, 24]  \n",
       "4                    no_relation    [22, 30]      [0, 3]  \n",
       "...                          ...         ...         ...  \n",
       "32459            per:employee_of    [93, 95]  [100, 107]  \n",
       "32460             per:colleagues      [7, 9]    [17, 19]  \n",
       "32461  org:top_members/employees      [0, 2]      [7, 9]  \n",
       "32462                no_relation      [6, 9]    [21, 25]  \n",
       "32463  org:top_members/employees      [0, 2]      [7, 9]  \n",
       "\n",
       "[32464 rows x 9 columns]"
      ]
     },
     "execution_count": 35,
     "metadata": {},
     "output_type": "execute_result"
    }
   ],
   "source": [
    "df_vanila_temp"
   ]
  },
  {
   "cell_type": "code",
   "execution_count": 67,
   "id": "d7492981-0c70-4608-9078-7dbac22afbdd",
   "metadata": {},
   "outputs": [
    {
     "data": {
      "application/vnd.jupyter.widget-view+json": {
       "model_id": "60ebf9796d634251b8f0a5c6702336af",
       "version_major": 2,
       "version_minor": 0
      },
      "text/plain": [
       "HBox(children=(HTML(value=''), FloatProgress(value=0.0, max=20.0), HTML(value='')))"
      ]
     },
     "metadata": {},
     "output_type": "display_data"
    },
    {
     "name": "stdout",
     "output_type": "stream",
     "text": [
      "\n"
     ]
    }
   ],
   "source": [
    "df_vanila = copy.copy(df_vanila_temp)\n",
    "\n",
    "bad_sentence = []\n",
    "label_list = ['per:spouse','per:parents','per:colleagues','org:founded','per:date_of_death',\n",
    "              'org:members','org:product','per:children','per:place_of_residence','per:other_family',\n",
    "              'per:place_of_birth','org:founded_by','per:product','per:siblings','per:religion',\n",
    "              'org:political/religious_affiliation','per:schools_attended','org:dissolved',\n",
    "              'org:number_of_employees/members','per:place_of_death']\n",
    "\n",
    "# 몇배 증강 필요한지\n",
    "need_times = [2,4,5,6,7,7,8,11,19,20,23,25,28,29,42,43,51,64,90,108]\n",
    "\n",
    "df_list = []\n",
    "\n",
    "from tqdm.notebook import tqdm\n",
    "\n",
    "for i in tqdm(range(len(label_list))) : \n",
    "    temp_list = []\n",
    "    temp_df = pd.DataFrame()\n",
    "    \n",
    "    # 각각의 label에 해당하는 값 넣어줌\n",
    "    for j in range(len(df_vanila)) :\n",
    "        if df_vanila['label'][j] == label_list[i] :\n",
    "            temp_list.append(j)\n",
    "    \n",
    "    # 필요한 배수만큼 반복해서 넣어줌\n",
    "    for times in range(need_times[i]) :\n",
    "        for idx in temp_list :\n",
    "            temp_df = temp_df.append(df_vanila.iloc[idx],ignore_index=True)\n",
    "    \n",
    "    # df리스트에 포함시키기\n",
    "    df_list.append(temp_df)           "
   ]
  },
  {
   "cell_type": "code",
   "execution_count": 69,
   "id": "7f0bcb05-dc2b-4c6d-83fe-526f5e121113",
   "metadata": {},
   "outputs": [
    {
     "data": {
      "application/vnd.jupyter.widget-view+json": {
       "model_id": "a23420e922d441f4af7afa8a2f5e4fa3",
       "version_major": 2,
       "version_minor": 0
      },
      "text/plain": [
       "HBox(children=(HTML(value=''), FloatProgress(value=0.0, max=20.0), HTML(value='')))"
      ]
     },
     "metadata": {},
     "output_type": "display_data"
    },
    {
     "name": "stderr",
     "output_type": "stream",
     "text": [
      "<ipython-input-69-05398083ddc5>:48: SettingWithCopyWarning: \n",
      "A value is trying to be set on a copy of a slice from a DataFrame\n",
      "\n",
      "See the caveats in the documentation: https://pandas.pydata.org/pandas-docs/stable/user_guide/indexing.html#returning-a-view-versus-a-copy\n",
      "  modified_df['sentence'][i] = modified_sentence\n",
      "<ipython-input-69-05398083ddc5>:49: SettingWithCopyWarning: \n",
      "A value is trying to be set on a copy of a slice from a DataFrame\n",
      "\n",
      "See the caveats in the documentation: https://pandas.pydata.org/pandas-docs/stable/user_guide/indexing.html#returning-a-view-versus-a-copy\n",
      "  modified_df['subject_entity'][i] = random_entity[0]\n",
      "<ipython-input-69-05398083ddc5>:50: SettingWithCopyWarning: \n",
      "A value is trying to be set on a copy of a slice from a DataFrame\n",
      "\n",
      "See the caveats in the documentation: https://pandas.pydata.org/pandas-docs/stable/user_guide/indexing.html#returning-a-view-versus-a-copy\n",
      "  modified_df['object_entity'][i] = random_entity[1]\n"
     ]
    },
    {
     "data": {
      "application/vnd.jupyter.widget-view+json": {
       "model_id": "5900a1b8f67740ccba4a3f206dd6f738",
       "version_major": 2,
       "version_minor": 0
      },
      "text/plain": [
       "HBox(children=(HTML(value=''), FloatProgress(value=0.0, max=1590.0), HTML(value='')))"
      ]
     },
     "metadata": {},
     "output_type": "display_data"
    },
    {
     "name": "stderr",
     "output_type": "stream",
     "text": [
      "<ipython-input-69-05398083ddc5>:56: SettingWithCopyWarning: \n",
      "A value is trying to be set on a copy of a slice from a DataFrame\n",
      "\n",
      "See the caveats in the documentation: https://pandas.pydata.org/pandas-docs/stable/user_guide/indexing.html#returning-a-view-versus-a-copy\n",
      "  modified_df['sentence'][i] = modified_df['sentence'][i][start_cut:end_cut+1]\n"
     ]
    },
    {
     "name": "stdout",
     "output_type": "stream",
     "text": [
      "\n"
     ]
    },
    {
     "data": {
      "application/vnd.jupyter.widget-view+json": {
       "model_id": "989cf4a0bad04359860a89be32cece5c",
       "version_major": 2,
       "version_minor": 0
      },
      "text/plain": [
       "HBox(children=(HTML(value=''), FloatProgress(value=0.0, max=2080.0), HTML(value='')))"
      ]
     },
     "metadata": {},
     "output_type": "display_data"
    },
    {
     "name": "stdout",
     "output_type": "stream",
     "text": [
      "\n"
     ]
    },
    {
     "data": {
      "application/vnd.jupyter.widget-view+json": {
       "model_id": "b7f592692eb14fc88f388b8d40e8d3ec",
       "version_major": 2,
       "version_minor": 0
      },
      "text/plain": [
       "HBox(children=(HTML(value=''), FloatProgress(value=0.0, max=2670.0), HTML(value='')))"
      ]
     },
     "metadata": {},
     "output_type": "display_data"
    },
    {
     "name": "stdout",
     "output_type": "stream",
     "text": [
      "\n"
     ]
    },
    {
     "data": {
      "application/vnd.jupyter.widget-view+json": {
       "model_id": "42f8652780b6444a9e62c6c5e5286110",
       "version_major": 2,
       "version_minor": 0
      },
      "text/plain": [
       "HBox(children=(HTML(value=''), FloatProgress(value=0.0, max=2700.0), HTML(value='')))"
      ]
     },
     "metadata": {},
     "output_type": "display_data"
    },
    {
     "name": "stdout",
     "output_type": "stream",
     "text": [
      "\n"
     ]
    },
    {
     "data": {
      "application/vnd.jupyter.widget-view+json": {
       "model_id": "3c6427850c9040eea972c142d078e7fa",
       "version_major": 2,
       "version_minor": 0
      },
      "text/plain": [
       "HBox(children=(HTML(value=''), FloatProgress(value=0.0, max=2926.0), HTML(value='')))"
      ]
     },
     "metadata": {},
     "output_type": "display_data"
    },
    {
     "name": "stdout",
     "output_type": "stream",
     "text": [
      "\n"
     ]
    },
    {
     "data": {
      "application/vnd.jupyter.widget-view+json": {
       "model_id": "753b681241dd48a78ac111801adb1998",
       "version_major": 2,
       "version_minor": 0
      },
      "text/plain": [
       "HBox(children=(HTML(value=''), FloatProgress(value=0.0, max=2933.0), HTML(value='')))"
      ]
     },
     "metadata": {},
     "output_type": "display_data"
    },
    {
     "name": "stdout",
     "output_type": "stream",
     "text": [
      "\n"
     ]
    },
    {
     "data": {
      "application/vnd.jupyter.widget-view+json": {
       "model_id": "ef6d7e67c0b64e49a97e9f79c7086f08",
       "version_major": 2,
       "version_minor": 0
      },
      "text/plain": [
       "HBox(children=(HTML(value=''), FloatProgress(value=0.0, max=3040.0), HTML(value='')))"
      ]
     },
     "metadata": {},
     "output_type": "display_data"
    },
    {
     "name": "stdout",
     "output_type": "stream",
     "text": [
      "\n"
     ]
    },
    {
     "data": {
      "application/vnd.jupyter.widget-view+json": {
       "model_id": "374570af368142cf85751bda77aad377",
       "version_major": 2,
       "version_minor": 0
      },
      "text/plain": [
       "HBox(children=(HTML(value=''), FloatProgress(value=0.0, max=3344.0), HTML(value='')))"
      ]
     },
     "metadata": {},
     "output_type": "display_data"
    },
    {
     "name": "stdout",
     "output_type": "stream",
     "text": [
      "\n"
     ]
    },
    {
     "data": {
      "application/vnd.jupyter.widget-view+json": {
       "model_id": "1f58a06712e540159c54520cd5d32afe",
       "version_major": 2,
       "version_minor": 0
      },
      "text/plain": [
       "HBox(children=(HTML(value=''), FloatProgress(value=0.0, max=3648.0), HTML(value='')))"
      ]
     },
     "metadata": {},
     "output_type": "display_data"
    },
    {
     "name": "stdout",
     "output_type": "stream",
     "text": [
      "\n"
     ]
    },
    {
     "data": {
      "application/vnd.jupyter.widget-view+json": {
       "model_id": "92db5ed82a454a66adf62bfdadc4495b",
       "version_major": 2,
       "version_minor": 0
      },
      "text/plain": [
       "HBox(children=(HTML(value=''), FloatProgress(value=0.0, max=3800.0), HTML(value='')))"
      ]
     },
     "metadata": {},
     "output_type": "display_data"
    },
    {
     "name": "stdout",
     "output_type": "stream",
     "text": [
      "\n"
     ]
    },
    {
     "data": {
      "application/vnd.jupyter.widget-view+json": {
       "model_id": "af8665cc77414b11bc9dbcc1418efead",
       "version_major": 2,
       "version_minor": 0
      },
      "text/plain": [
       "HBox(children=(HTML(value=''), FloatProgress(value=0.0, max=3818.0), HTML(value='')))"
      ]
     },
     "metadata": {},
     "output_type": "display_data"
    },
    {
     "name": "stdout",
     "output_type": "stream",
     "text": [
      "\n"
     ]
    },
    {
     "data": {
      "application/vnd.jupyter.widget-view+json": {
       "model_id": "99e37ab2f9654fa9937d7fe36ef4a9c6",
       "version_major": 2,
       "version_minor": 0
      },
      "text/plain": [
       "HBox(children=(HTML(value=''), FloatProgress(value=0.0, max=3875.0), HTML(value='')))"
      ]
     },
     "metadata": {},
     "output_type": "display_data"
    },
    {
     "name": "stdout",
     "output_type": "stream",
     "text": [
      "\n"
     ]
    },
    {
     "data": {
      "application/vnd.jupyter.widget-view+json": {
       "model_id": "b9d32cd6a95940e1899b86e150230eb5",
       "version_major": 2,
       "version_minor": 0
      },
      "text/plain": [
       "HBox(children=(HTML(value=''), FloatProgress(value=0.0, max=3892.0), HTML(value='')))"
      ]
     },
     "metadata": {},
     "output_type": "display_data"
    },
    {
     "name": "stdout",
     "output_type": "stream",
     "text": [
      "\n"
     ]
    },
    {
     "data": {
      "application/vnd.jupyter.widget-view+json": {
       "model_id": "68a4100690264850986a1e1bcb085d17",
       "version_major": 2,
       "version_minor": 0
      },
      "text/plain": [
       "HBox(children=(HTML(value=''), FloatProgress(value=0.0, max=3944.0), HTML(value='')))"
      ]
     },
     "metadata": {},
     "output_type": "display_data"
    },
    {
     "name": "stdout",
     "output_type": "stream",
     "text": [
      "\n"
     ]
    },
    {
     "data": {
      "application/vnd.jupyter.widget-view+json": {
       "model_id": "c3f5b29d273d4684930e28b226bdb90c",
       "version_major": 2,
       "version_minor": 0
      },
      "text/plain": [
       "HBox(children=(HTML(value=''), FloatProgress(value=0.0, max=4032.0), HTML(value='')))"
      ]
     },
     "metadata": {},
     "output_type": "display_data"
    },
    {
     "name": "stdout",
     "output_type": "stream",
     "text": [
      "\n"
     ]
    },
    {
     "data": {
      "application/vnd.jupyter.widget-view+json": {
       "model_id": "f44290192c9d48bb950966a448a0aead",
       "version_major": 2,
       "version_minor": 0
      },
      "text/plain": [
       "HBox(children=(HTML(value=''), FloatProgress(value=0.0, max=4214.0), HTML(value='')))"
      ]
     },
     "metadata": {},
     "output_type": "display_data"
    },
    {
     "name": "stdout",
     "output_type": "stream",
     "text": [
      "\n"
     ]
    },
    {
     "data": {
      "application/vnd.jupyter.widget-view+json": {
       "model_id": "b54c07fca8f4451d854f0b8609e9a4b3",
       "version_major": 2,
       "version_minor": 0
      },
      "text/plain": [
       "HBox(children=(HTML(value=''), FloatProgress(value=0.0, max=4182.0), HTML(value='')))"
      ]
     },
     "metadata": {},
     "output_type": "display_data"
    },
    {
     "name": "stdout",
     "output_type": "stream",
     "text": [
      "\n"
     ]
    },
    {
     "data": {
      "application/vnd.jupyter.widget-view+json": {
       "model_id": "0d0acb1029ab47e4a534362511af9fab",
       "version_major": 2,
       "version_minor": 0
      },
      "text/plain": [
       "HBox(children=(HTML(value=''), FloatProgress(value=0.0, max=4224.0), HTML(value='')))"
      ]
     },
     "metadata": {},
     "output_type": "display_data"
    },
    {
     "name": "stdout",
     "output_type": "stream",
     "text": [
      "\n"
     ]
    },
    {
     "data": {
      "application/vnd.jupyter.widget-view+json": {
       "model_id": "12731459f45446f6b8f5830f8c032b68",
       "version_major": 2,
       "version_minor": 0
      },
      "text/plain": [
       "HBox(children=(HTML(value=''), FloatProgress(value=0.0, max=4320.0), HTML(value='')))"
      ]
     },
     "metadata": {},
     "output_type": "display_data"
    },
    {
     "name": "stdout",
     "output_type": "stream",
     "text": [
      "\n"
     ]
    },
    {
     "data": {
      "application/vnd.jupyter.widget-view+json": {
       "model_id": "cd6d104c3097460b91deace9852d12e2",
       "version_major": 2,
       "version_minor": 0
      },
      "text/plain": [
       "HBox(children=(HTML(value=''), FloatProgress(value=0.0, max=4320.0), HTML(value='')))"
      ]
     },
     "metadata": {},
     "output_type": "display_data"
    },
    {
     "name": "stdout",
     "output_type": "stream",
     "text": [
      "\n",
      "\n"
     ]
    }
   ],
   "source": [
    "\n",
    "# label, subject_type, object_type이 모두 같아야만 치환 가능\n",
    "# 문장 데이터 교체 자동화가 필요함!!\n",
    "import random\n",
    "from tqdm.notebook import tqdm\n",
    "import copy\n",
    "\n",
    "modified_df_list = []\n",
    "\n",
    "for df in tqdm(df_list) : \n",
    "    modified_df = pd.DataFrame()\n",
    "    modified_df = copy.copy(df)\n",
    "    for i in range(len(df)) : \n",
    "        temp_list = []\n",
    "        relation_num = relation_class.index(df['label'][i])\n",
    "        type_num = type_class.index((df['subject_type'][i]+'/' + df['object_type'][i]))\n",
    "\n",
    "        temp_list = relation_book[relation_num][type_num]\n",
    "        random_entity = temp_list[random.randint(0, len(temp_list)-1)]\n",
    "\n",
    "        # index 설정\n",
    "        sub_idx = df['subject_idx'][i]    \n",
    "        obj_idx = df['object_idx'][i]\n",
    "\n",
    "        # sub가 먼저 나올 경우\n",
    "        if min(sub_idx[0],obj_idx[0]) == sub_idx[0] :\n",
    "            temp_len = len(df['sentence'][i][sub_idx[1]+1:obj_idx[0]])\n",
    "\n",
    "            modified_sentence = df['sentence'][i][:sub_idx[0]] + random_entity[0] + df['sentence'][i][sub_idx[1]+1:obj_idx[0]] + random_entity[1] + df['sentence'][i][obj_idx[1]+1:]\n",
    "\n",
    "            modified_df['subject_idx'][i][0] = len(df['sentence'][i][:sub_idx[0]])\n",
    "            modified_df['subject_idx'][i][1] = len(df['sentence'][i][:sub_idx[0]] + random_entity[0]) -1\n",
    "            modified_df['object_idx'][i][0] = modified_df['subject_idx'][i][1] + temp_len + 1\n",
    "            modified_df['object_idx'][i][1] = modified_df['object_idx'][i][0] + len(random_entity[1]) -1\n",
    "\n",
    "        # obj가 먼저 나올 경우\n",
    "        else :\n",
    "            temp_len = len(df['sentence'][i][obj_idx[1]+1:sub_idx[0]])\n",
    "\n",
    "            modified_sentence = df['sentence'][i][:obj_idx[0]] + random_entity[1] + df['sentence'][i][obj_idx[1]+1:sub_idx[0]] + random_entity[0] + df['sentence'][i][sub_idx[1]+1:]\n",
    "\n",
    "            modified_df['object_idx'][i][0] = len(df['sentence'][i][:obj_idx[0]]) \n",
    "            modified_df['object_idx'][i][1] = len(df['sentence'][i][:obj_idx[0]] + random_entity[1]) -1\n",
    "            modified_df['subject_idx'][i][0] = modified_df['object_idx'][i][1] + temp_len + 1\n",
    "            modified_df['subject_idx'][i][1] = modified_df['subject_idx'][i][0] + len(random_entity[0]) -1\n",
    "\n",
    "\n",
    "        # 갈아끼우기\n",
    "        modified_df['sentence'][i] = modified_sentence\n",
    "        modified_df['subject_entity'][i] = random_entity[0]\n",
    "        modified_df['object_entity'][i] = random_entity[1]\n",
    "\n",
    "    # 문장 앞 뒤 잘라내기\n",
    "    for i in range(len(modified_df)) : \n",
    "        start_cut = min(modified_df['subject_idx'][i][0], modified_df['object_idx'][i][0])\n",
    "        end_cut = max(modified_df['subject_idx'][i][1], modified_df['object_idx'][i][1])\n",
    "        modified_df['sentence'][i] = modified_df['sentence'][i][start_cut:end_cut+1]\n",
    "\n",
    "    modified_df_list.append(modified_df)"
   ]
  },
  {
   "cell_type": "code",
   "execution_count": 94,
   "id": "083a486d-4161-43e9-bc96-e5659bbad1a2",
   "metadata": {},
   "outputs": [
    {
     "data": {
      "text/html": [
       "<div>\n",
       "<style scoped>\n",
       "    .dataframe tbody tr th:only-of-type {\n",
       "        vertical-align: middle;\n",
       "    }\n",
       "\n",
       "    .dataframe tbody tr th {\n",
       "        vertical-align: top;\n",
       "    }\n",
       "\n",
       "    .dataframe thead th {\n",
       "        text-align: right;\n",
       "    }\n",
       "</style>\n",
       "<table border=\"1\" class=\"dataframe\">\n",
       "  <thead>\n",
       "    <tr style=\"text-align: right;\">\n",
       "      <th></th>\n",
       "      <th>id</th>\n",
       "      <th>label</th>\n",
       "      <th>object_entity</th>\n",
       "      <th>object_idx</th>\n",
       "      <th>object_type</th>\n",
       "      <th>sentence</th>\n",
       "      <th>subject_entity</th>\n",
       "      <th>subject_idx</th>\n",
       "      <th>subject_type</th>\n",
       "    </tr>\n",
       "  </thead>\n",
       "  <tbody>\n",
       "    <tr>\n",
       "      <th>0</th>\n",
       "      <td>146.0</td>\n",
       "      <td>per:parents</td>\n",
       "      <td>고시라카와 천황</td>\n",
       "      <td>[64, 67]</td>\n",
       "      <td>PER</td>\n",
       "      <td>후지와라노 쇼시/다마코(1101년 - 1145년 9월 10일)은 헤이안 시대 도바 ...</td>\n",
       "      <td>다카쿠라 천황</td>\n",
       "      <td>[81, 84]</td>\n",
       "      <td>PER</td>\n",
       "    </tr>\n",
       "    <tr>\n",
       "      <th>1</th>\n",
       "      <td>219.0</td>\n",
       "      <td>per:parents</td>\n",
       "      <td>어머니 장수금</td>\n",
       "      <td>[37, 39]</td>\n",
       "      <td>POH</td>\n",
       "      <td>김대중은 1924년 1월 6일에 전라남도 신안에서 아버지 김운식과 어머니 장수금 사...</td>\n",
       "      <td>김대중</td>\n",
       "      <td>[0, 2]</td>\n",
       "      <td>PER</td>\n",
       "    </tr>\n",
       "    <tr>\n",
       "      <th>2</th>\n",
       "      <td>229.0</td>\n",
       "      <td>per:parents</td>\n",
       "      <td>문무왕</td>\n",
       "      <td>[6, 11]</td>\n",
       "      <td>PER</td>\n",
       "      <td>자의왕후는 문무왕과의 사이에서 소명태자와 훗날 신문왕이 되는 정명태자를 낳았다.</td>\n",
       "      <td>신문왕</td>\n",
       "      <td>[29, 35]</td>\n",
       "      <td>PER</td>\n",
       "    </tr>\n",
       "    <tr>\n",
       "      <th>3</th>\n",
       "      <td>475.0</td>\n",
       "      <td>per:parents</td>\n",
       "      <td>타흐마스프 1세</td>\n",
       "      <td>[26, 29]</td>\n",
       "      <td>PER</td>\n",
       "      <td>후일 이스마일 2세라 알려질 이스마일 미르자는 밤, 타흐마스프 1세의 둘째 아들로 ...</td>\n",
       "      <td>이스마일 2세</td>\n",
       "      <td>[3, 6]</td>\n",
       "      <td>PER</td>\n",
       "    </tr>\n",
       "    <tr>\n",
       "      <th>4</th>\n",
       "      <td>528.0</td>\n",
       "      <td>per:parents</td>\n",
       "      <td>송갑조</td>\n",
       "      <td>[30, 37]</td>\n",
       "      <td>PER</td>\n",
       "      <td>송갑조, 김장생의 문인으로 그 뒤로 송시열은 아버지 송갑조, 사계 김장생, 김장생의...</td>\n",
       "      <td>송시열</td>\n",
       "      <td>[20, 23]</td>\n",
       "      <td>PER</td>\n",
       "    </tr>\n",
       "    <tr>\n",
       "      <th>...</th>\n",
       "      <td>...</td>\n",
       "      <td>...</td>\n",
       "      <td>...</td>\n",
       "      <td>...</td>\n",
       "      <td>...</td>\n",
       "      <td>...</td>\n",
       "      <td>...</td>\n",
       "      <td>...</td>\n",
       "      <td>...</td>\n",
       "    </tr>\n",
       "    <tr>\n",
       "      <th>2075</th>\n",
       "      <td>32194.0</td>\n",
       "      <td>per:parents</td>\n",
       "      <td>페르난도 1세</td>\n",
       "      <td>[0, 5]</td>\n",
       "      <td>PER</td>\n",
       "      <td>페르난도 1세는 죽을 때 여러 자식들에게 왕국을 나누어주면서 둘째 아들 알폰소 6세...</td>\n",
       "      <td>알폰소 6세</td>\n",
       "      <td>[39, 42]</td>\n",
       "      <td>PER</td>\n",
       "    </tr>\n",
       "    <tr>\n",
       "      <th>2076</th>\n",
       "      <td>32196.0</td>\n",
       "      <td>per:parents</td>\n",
       "      <td>루이 14세</td>\n",
       "      <td>[6, 10]</td>\n",
       "      <td>PER</td>\n",
       "      <td>1714년 루이 14세가 죽고 난 뒤에는 프랑수아즈도 궁에서 물러났고 어린 루이 1...</td>\n",
       "      <td>루이 15세</td>\n",
       "      <td>[41, 43]</td>\n",
       "      <td>PER</td>\n",
       "    </tr>\n",
       "    <tr>\n",
       "      <th>2077</th>\n",
       "      <td>32240.0</td>\n",
       "      <td>per:parents</td>\n",
       "      <td>남연군</td>\n",
       "      <td>[43, 52]</td>\n",
       "      <td>LOC</td>\n",
       "      <td>국보와 보물로는 아래와 같은 것들이 있으며, 이것 외에도 흥선대원군의 아버지인 남연...</td>\n",
       "      <td>흥선대원군</td>\n",
       "      <td>[32, 35]</td>\n",
       "      <td>PER</td>\n",
       "    </tr>\n",
       "    <tr>\n",
       "      <th>2078</th>\n",
       "      <td>32260.0</td>\n",
       "      <td>per:parents</td>\n",
       "      <td>조영길</td>\n",
       "      <td>[0, 8]</td>\n",
       "      <td>PER</td>\n",
       "      <td>조영길의 딸로, 이름은 봉가이(鳳加伊)이다.</td>\n",
       "      <td>봉가이</td>\n",
       "      <td>[19, 24]</td>\n",
       "      <td>PER</td>\n",
       "    </tr>\n",
       "    <tr>\n",
       "      <th>2079</th>\n",
       "      <td>32445.0</td>\n",
       "      <td>per:parents</td>\n",
       "      <td>정재학</td>\n",
       "      <td>[3, 9]</td>\n",
       "      <td>PER</td>\n",
       "      <td>반면 정재학의 3남인 정종원은 제5대 조흥은행장, 손자인 정운용은 제2대 조흥은행장...</td>\n",
       "      <td>정종원</td>\n",
       "      <td>[16, 20]</td>\n",
       "      <td>PER</td>\n",
       "    </tr>\n",
       "  </tbody>\n",
       "</table>\n",
       "<p>2080 rows × 9 columns</p>\n",
       "</div>"
      ],
      "text/plain": [
       "           id        label object_entity object_idx object_type  \\\n",
       "0       146.0  per:parents      고시라카와 천황   [64, 67]         PER   \n",
       "1       219.0  per:parents       어머니 장수금   [37, 39]         POH   \n",
       "2       229.0  per:parents           문무왕    [6, 11]         PER   \n",
       "3       475.0  per:parents      타흐마스프 1세   [26, 29]         PER   \n",
       "4       528.0  per:parents           송갑조   [30, 37]         PER   \n",
       "...       ...          ...           ...        ...         ...   \n",
       "2075  32194.0  per:parents       페르난도 1세     [0, 5]         PER   \n",
       "2076  32196.0  per:parents        루이 14세    [6, 10]         PER   \n",
       "2077  32240.0  per:parents           남연군   [43, 52]         LOC   \n",
       "2078  32260.0  per:parents           조영길     [0, 8]         PER   \n",
       "2079  32445.0  per:parents           정재학     [3, 9]         PER   \n",
       "\n",
       "                                               sentence subject_entity  \\\n",
       "0     후지와라노 쇼시/다마코(1101년 - 1145년 9월 10일)은 헤이안 시대 도바 ...        다카쿠라 천황   \n",
       "1     김대중은 1924년 1월 6일에 전라남도 신안에서 아버지 김운식과 어머니 장수금 사...            김대중   \n",
       "2          자의왕후는 문무왕과의 사이에서 소명태자와 훗날 신문왕이 되는 정명태자를 낳았다.            신문왕   \n",
       "3     후일 이스마일 2세라 알려질 이스마일 미르자는 밤, 타흐마스프 1세의 둘째 아들로 ...        이스마일 2세   \n",
       "4     송갑조, 김장생의 문인으로 그 뒤로 송시열은 아버지 송갑조, 사계 김장생, 김장생의...            송시열   \n",
       "...                                                 ...            ...   \n",
       "2075  페르난도 1세는 죽을 때 여러 자식들에게 왕국을 나누어주면서 둘째 아들 알폰소 6세...         알폰소 6세   \n",
       "2076  1714년 루이 14세가 죽고 난 뒤에는 프랑수아즈도 궁에서 물러났고 어린 루이 1...         루이 15세   \n",
       "2077  국보와 보물로는 아래와 같은 것들이 있으며, 이것 외에도 흥선대원군의 아버지인 남연...          흥선대원군   \n",
       "2078                           조영길의 딸로, 이름은 봉가이(鳳加伊)이다.            봉가이   \n",
       "2079  반면 정재학의 3남인 정종원은 제5대 조흥은행장, 손자인 정운용은 제2대 조흥은행장...            정종원   \n",
       "\n",
       "     subject_idx subject_type  \n",
       "0       [81, 84]          PER  \n",
       "1         [0, 2]          PER  \n",
       "2       [29, 35]          PER  \n",
       "3         [3, 6]          PER  \n",
       "4       [20, 23]          PER  \n",
       "...          ...          ...  \n",
       "2075    [39, 42]          PER  \n",
       "2076    [41, 43]          PER  \n",
       "2077    [32, 35]          PER  \n",
       "2078    [19, 24]          PER  \n",
       "2079    [16, 20]          PER  \n",
       "\n",
       "[2080 rows x 9 columns]"
      ]
     },
     "execution_count": 94,
     "metadata": {},
     "output_type": "execute_result"
    }
   ],
   "source": [
    "df_list[1]"
   ]
  },
  {
   "cell_type": "code",
   "execution_count": 93,
   "id": "f1cae8b7-d69f-4041-ae3a-027ccf68a413",
   "metadata": {},
   "outputs": [
    {
     "data": {
      "text/html": [
       "<div>\n",
       "<style scoped>\n",
       "    .dataframe tbody tr th:only-of-type {\n",
       "        vertical-align: middle;\n",
       "    }\n",
       "\n",
       "    .dataframe tbody tr th {\n",
       "        vertical-align: top;\n",
       "    }\n",
       "\n",
       "    .dataframe thead th {\n",
       "        text-align: right;\n",
       "    }\n",
       "</style>\n",
       "<table border=\"1\" class=\"dataframe\">\n",
       "  <thead>\n",
       "    <tr style=\"text-align: right;\">\n",
       "      <th></th>\n",
       "      <th>id</th>\n",
       "      <th>label</th>\n",
       "      <th>object_entity</th>\n",
       "      <th>object_idx</th>\n",
       "      <th>object_type</th>\n",
       "      <th>sentence</th>\n",
       "      <th>subject_entity</th>\n",
       "      <th>subject_idx</th>\n",
       "      <th>subject_type</th>\n",
       "    </tr>\n",
       "  </thead>\n",
       "  <tbody>\n",
       "    <tr>\n",
       "      <th>0</th>\n",
       "      <td>146.0</td>\n",
       "      <td>per:parents</td>\n",
       "      <td>조영길</td>\n",
       "      <td>[64, 67]</td>\n",
       "      <td>PER</td>\n",
       "      <td>조영길의 생모로 니조 천황과 봉가이의</td>\n",
       "      <td>봉가이</td>\n",
       "      <td>[81, 84]</td>\n",
       "      <td>PER</td>\n",
       "    </tr>\n",
       "    <tr>\n",
       "      <th>1</th>\n",
       "      <td>219.0</td>\n",
       "      <td>per:parents</td>\n",
       "      <td>어머니 장수금</td>\n",
       "      <td>[37, 39]</td>\n",
       "      <td>POH</td>\n",
       "      <td>김대중은 1924년 1월 6일에 전라남도 신안에서 아버지 김운식과 어머니</td>\n",
       "      <td>김대중</td>\n",
       "      <td>[0, 2]</td>\n",
       "      <td>PER</td>\n",
       "    </tr>\n",
       "    <tr>\n",
       "      <th>2</th>\n",
       "      <td>229.0</td>\n",
       "      <td>per:parents</td>\n",
       "      <td>쿠살라</td>\n",
       "      <td>[6, 11]</td>\n",
       "      <td>PER</td>\n",
       "      <td>쿠살라과의 사이에서 소명태자와 훗날 토곤 테무르이 되는</td>\n",
       "      <td>토곤 테무르</td>\n",
       "      <td>[29, 35]</td>\n",
       "      <td>PER</td>\n",
       "    </tr>\n",
       "    <tr>\n",
       "      <th>3</th>\n",
       "      <td>475.0</td>\n",
       "      <td>per:parents</td>\n",
       "      <td>노광조</td>\n",
       "      <td>[26, 29]</td>\n",
       "      <td>PER</td>\n",
       "      <td>노연창라 알려질 이스마일 미르자는 밤, 노광조의</td>\n",
       "      <td>노연창</td>\n",
       "      <td>[3, 6]</td>\n",
       "      <td>PER</td>\n",
       "    </tr>\n",
       "    <tr>\n",
       "      <th>4</th>\n",
       "      <td>528.0</td>\n",
       "      <td>per:parents</td>\n",
       "      <td>고토바 천황</td>\n",
       "      <td>[30, 37]</td>\n",
       "      <td>PER</td>\n",
       "      <td>쓰치미카도 천황은 아버지 고토바</td>\n",
       "      <td>쓰치미카도 천황</td>\n",
       "      <td>[20, 23]</td>\n",
       "      <td>PER</td>\n",
       "    </tr>\n",
       "    <tr>\n",
       "      <th>...</th>\n",
       "      <td>...</td>\n",
       "      <td>...</td>\n",
       "      <td>...</td>\n",
       "      <td>...</td>\n",
       "      <td>...</td>\n",
       "      <td>...</td>\n",
       "      <td>...</td>\n",
       "      <td>...</td>\n",
       "      <td>...</td>\n",
       "    </tr>\n",
       "    <tr>\n",
       "      <th>2075</th>\n",
       "      <td>32194.0</td>\n",
       "      <td>per:parents</td>\n",
       "      <td>태종 이방원</td>\n",
       "      <td>[0, 5]</td>\n",
       "      <td>PER</td>\n",
       "      <td>태종 이방원1세는 죽을 때 여러 자식들에게 왕국을 나누어주면서 둘째 아효령대군</td>\n",
       "      <td>효령대군</td>\n",
       "      <td>[39, 42]</td>\n",
       "      <td>PER</td>\n",
       "    </tr>\n",
       "    <tr>\n",
       "      <th>2076</th>\n",
       "      <td>32196.0</td>\n",
       "      <td>per:parents</td>\n",
       "      <td>고조 이연</td>\n",
       "      <td>[6, 10]</td>\n",
       "      <td>PER</td>\n",
       "      <td>고조 이연가 죽고 난 뒤에는 프랑수아즈도 궁에서 물러났고 어린 이세민</td>\n",
       "      <td>이세민</td>\n",
       "      <td>[41, 43]</td>\n",
       "      <td>PER</td>\n",
       "    </tr>\n",
       "    <tr>\n",
       "      <th>2077</th>\n",
       "      <td>32240.0</td>\n",
       "      <td>per:parents</td>\n",
       "      <td>찬드라굽타 마우리아</td>\n",
       "      <td>[43, 52]</td>\n",
       "      <td>LOC</td>\n",
       "      <td>빈두사라군의 아버지인찬드라굽타 마우리아</td>\n",
       "      <td>빈두사라</td>\n",
       "      <td>[32, 35]</td>\n",
       "      <td>PER</td>\n",
       "    </tr>\n",
       "    <tr>\n",
       "      <th>2078</th>\n",
       "      <td>32260.0</td>\n",
       "      <td>per:parents</td>\n",
       "      <td>테오도시우스 1세</td>\n",
       "      <td>[0, 8]</td>\n",
       "      <td>PER</td>\n",
       "      <td>테오도시우스 1세로, 이름은 봉가이아르카디우스</td>\n",
       "      <td>아르카디우스</td>\n",
       "      <td>[19, 24]</td>\n",
       "      <td>PER</td>\n",
       "    </tr>\n",
       "    <tr>\n",
       "      <th>2079</th>\n",
       "      <td>32445.0</td>\n",
       "      <td>per:parents</td>\n",
       "      <td>쉴레이만 1세</td>\n",
       "      <td>[3, 9]</td>\n",
       "      <td>PER</td>\n",
       "      <td>쉴레이만 1세 3남인 정셀림 2세</td>\n",
       "      <td>셀림 2세</td>\n",
       "      <td>[16, 20]</td>\n",
       "      <td>PER</td>\n",
       "    </tr>\n",
       "  </tbody>\n",
       "</table>\n",
       "<p>2080 rows × 9 columns</p>\n",
       "</div>"
      ],
      "text/plain": [
       "           id        label object_entity object_idx object_type  \\\n",
       "0       146.0  per:parents           조영길   [64, 67]         PER   \n",
       "1       219.0  per:parents       어머니 장수금   [37, 39]         POH   \n",
       "2       229.0  per:parents           쿠살라    [6, 11]         PER   \n",
       "3       475.0  per:parents           노광조   [26, 29]         PER   \n",
       "4       528.0  per:parents        고토바 천황   [30, 37]         PER   \n",
       "...       ...          ...           ...        ...         ...   \n",
       "2075  32194.0  per:parents        태종 이방원     [0, 5]         PER   \n",
       "2076  32196.0  per:parents         고조 이연    [6, 10]         PER   \n",
       "2077  32240.0  per:parents    찬드라굽타 마우리아   [43, 52]         LOC   \n",
       "2078  32260.0  per:parents     테오도시우스 1세     [0, 8]         PER   \n",
       "2079  32445.0  per:parents       쉴레이만 1세     [3, 9]         PER   \n",
       "\n",
       "                                         sentence subject_entity subject_idx  \\\n",
       "0                           조영길의 생모로 니조 천황과 봉가이의             봉가이    [81, 84]   \n",
       "1        김대중은 1924년 1월 6일에 전라남도 신안에서 아버지 김운식과 어머니            김대중      [0, 2]   \n",
       "2                  쿠살라과의 사이에서 소명태자와 훗날 토곤 테무르이 되는         토곤 테무르    [29, 35]   \n",
       "3                     노연창라 알려질 이스마일 미르자는 밤, 노광조의             노연창      [3, 6]   \n",
       "4                              쓰치미카도 천황은 아버지 고토바        쓰치미카도 천황    [20, 23]   \n",
       "...                                           ...            ...         ...   \n",
       "2075  태종 이방원1세는 죽을 때 여러 자식들에게 왕국을 나누어주면서 둘째 아효령대군           효령대군    [39, 42]   \n",
       "2076       고조 이연가 죽고 난 뒤에는 프랑수아즈도 궁에서 물러났고 어린 이세민            이세민    [41, 43]   \n",
       "2077                        빈두사라군의 아버지인찬드라굽타 마우리아           빈두사라    [32, 35]   \n",
       "2078                    테오도시우스 1세로, 이름은 봉가이아르카디우스         아르카디우스    [19, 24]   \n",
       "2079                           쉴레이만 1세 3남인 정셀림 2세          셀림 2세    [16, 20]   \n",
       "\n",
       "     subject_type  \n",
       "0             PER  \n",
       "1             PER  \n",
       "2             PER  \n",
       "3             PER  \n",
       "4             PER  \n",
       "...           ...  \n",
       "2075          PER  \n",
       "2076          PER  \n",
       "2077          PER  \n",
       "2078          PER  \n",
       "2079          PER  \n",
       "\n",
       "[2080 rows x 9 columns]"
      ]
     },
     "execution_count": 93,
     "metadata": {},
     "output_type": "execute_result"
    }
   ],
   "source": [
    "modified_df_list[1]"
   ]
  },
  {
   "cell_type": "code",
   "execution_count": 71,
   "id": "bad2dc01-8cb6-4584-bc3b-de74f9584ccb",
   "metadata": {},
   "outputs": [],
   "source": [
    "final_df = pd.DataFrame()\n",
    "\n",
    "for modified_df in modified_df_list :\n",
    "    final_df = pd.concat([final_df,modified_df], ignore_index=True)\n",
    "    "
   ]
  },
  {
   "cell_type": "code",
   "execution_count": 72,
   "id": "70f34095-0ec6-4138-9c5e-9fc8e96cda2e",
   "metadata": {},
   "outputs": [
    {
     "data": {
      "text/html": [
       "<div>\n",
       "<style scoped>\n",
       "    .dataframe tbody tr th:only-of-type {\n",
       "        vertical-align: middle;\n",
       "    }\n",
       "\n",
       "    .dataframe tbody tr th {\n",
       "        vertical-align: top;\n",
       "    }\n",
       "\n",
       "    .dataframe thead th {\n",
       "        text-align: right;\n",
       "    }\n",
       "</style>\n",
       "<table border=\"1\" class=\"dataframe\">\n",
       "  <thead>\n",
       "    <tr style=\"text-align: right;\">\n",
       "      <th></th>\n",
       "      <th>id</th>\n",
       "      <th>label</th>\n",
       "      <th>object_entity</th>\n",
       "      <th>object_idx</th>\n",
       "      <th>object_type</th>\n",
       "      <th>sentence</th>\n",
       "      <th>subject_entity</th>\n",
       "      <th>subject_idx</th>\n",
       "      <th>subject_type</th>\n",
       "    </tr>\n",
       "  </thead>\n",
       "  <tbody>\n",
       "    <tr>\n",
       "      <th>0</th>\n",
       "      <td>22.0</td>\n",
       "      <td>per:spouse</td>\n",
       "      <td>문재인</td>\n",
       "      <td>[58, 60]</td>\n",
       "      <td>PER</td>\n",
       "      <td>김정숙은 첫 부인과의 사이에 장녀 박병숙을 두었고, 두 번째 부인은 경희대학교 교수...</td>\n",
       "      <td>김정숙</td>\n",
       "      <td>[0, 3]</td>\n",
       "      <td>PER</td>\n",
       "    </tr>\n",
       "    <tr>\n",
       "      <th>1</th>\n",
       "      <td>25.0</td>\n",
       "      <td>per:spouse</td>\n",
       "      <td>엘레나 차우셰스쿠</td>\n",
       "      <td>[67, 69]</td>\n",
       "      <td>PER</td>\n",
       "      <td>엘레나 차우셰스쿠 회장이 수감 중 구치소에 라텍스 베개를 배포하였다거나 이혼 소송</td>\n",
       "      <td>니콜라에 차우셰스쿠</td>\n",
       "      <td>[110, 112]</td>\n",
       "      <td>PER</td>\n",
       "    </tr>\n",
       "    <tr>\n",
       "      <th>2</th>\n",
       "      <td>33.0</td>\n",
       "      <td>per:spouse</td>\n",
       "      <td>강주은</td>\n",
       "      <td>[13, 21]</td>\n",
       "      <td>PER</td>\n",
       "      <td>최민수는 이후 강주은을 생명의 은인으로</td>\n",
       "      <td>최민수</td>\n",
       "      <td>[0, 7]</td>\n",
       "      <td>PER</td>\n",
       "    </tr>\n",
       "    <tr>\n",
       "      <th>3</th>\n",
       "      <td>40.0</td>\n",
       "      <td>per:spouse</td>\n",
       "      <td>고소영</td>\n",
       "      <td>[3, 5]</td>\n",
       "      <td>PER</td>\n",
       "      <td>고소영(35) 씨와 남편 장동건</td>\n",
       "      <td>장동건</td>\n",
       "      <td>[17, 19]</td>\n",
       "      <td>PER</td>\n",
       "    </tr>\n",
       "    <tr>\n",
       "      <th>4</th>\n",
       "      <td>77.0</td>\n",
       "      <td>per:spouse</td>\n",
       "      <td>한인하</td>\n",
       "      <td>[11, 13]</td>\n",
       "      <td>PER</td>\n",
       "      <td>박흥식 대통령 부인 한인하</td>\n",
       "      <td>박흥식</td>\n",
       "      <td>[0, 2]</td>\n",
       "      <td>PER</td>\n",
       "    </tr>\n",
       "    <tr>\n",
       "      <th>...</th>\n",
       "      <td>...</td>\n",
       "      <td>...</td>\n",
       "      <td>...</td>\n",
       "      <td>...</td>\n",
       "      <td>...</td>\n",
       "      <td>...</td>\n",
       "      <td>...</td>\n",
       "      <td>...</td>\n",
       "      <td>...</td>\n",
       "    </tr>\n",
       "    <tr>\n",
       "      <th>69547</th>\n",
       "      <td>27073.0</td>\n",
       "      <td>per:place_of_death</td>\n",
       "      <td>조선민주주의인민공화국</td>\n",
       "      <td>[13, 23]</td>\n",
       "      <td>LOC</td>\n",
       "      <td>조선민주주의인민공화국했으며 1635년 러시아 차르국의 차르였던 미하일 1세의 요청에...</td>\n",
       "      <td>리승엽</td>\n",
       "      <td>[68, 70]</td>\n",
       "      <td>PER</td>\n",
       "    </tr>\n",
       "    <tr>\n",
       "      <th>69548</th>\n",
       "      <td>28326.0</td>\n",
       "      <td>per:place_of_death</td>\n",
       "      <td>미국 뉴욕주</td>\n",
       "      <td>[35, 40]</td>\n",
       "      <td>LOC</td>\n",
       "      <td>미국 뉴욕주마르세유에서 유고슬라비아 손다이크</td>\n",
       "      <td>손다이크</td>\n",
       "      <td>[55, 58]</td>\n",
       "      <td>PER</td>\n",
       "    </tr>\n",
       "    <tr>\n",
       "      <th>69549</th>\n",
       "      <td>29260.0</td>\n",
       "      <td>per:place_of_death</td>\n",
       "      <td>진나라</td>\n",
       "      <td>[38, 40]</td>\n",
       "      <td>DAT</td>\n",
       "      <td>진시황이 사망한 직후였으며 이로 인해 진나라</td>\n",
       "      <td>진시황</td>\n",
       "      <td>[17, 19]</td>\n",
       "      <td>PER</td>\n",
       "    </tr>\n",
       "    <tr>\n",
       "      <th>69550</th>\n",
       "      <td>30002.0</td>\n",
       "      <td>per:place_of_death</td>\n",
       "      <td>대한민국</td>\n",
       "      <td>[44, 47]</td>\n",
       "      <td>LOC</td>\n",
       "      <td>손원일헤임은 1951년 1월 27일(협정 세계시), 핀란드 시간으로는 1월 28대한민국</td>\n",
       "      <td>손원일</td>\n",
       "      <td>[0, 2]</td>\n",
       "      <td>PER</td>\n",
       "    </tr>\n",
       "    <tr>\n",
       "      <th>69551</th>\n",
       "      <td>30981.0</td>\n",
       "      <td>per:place_of_death</td>\n",
       "      <td>경희궁 어조당(魚藻堂)</td>\n",
       "      <td>[12, 23]</td>\n",
       "      <td>POH</td>\n",
       "      <td>경희궁 어조당(魚藻堂)이 함락되자 의병장인 김천일·고종후와 함께 촉선의왕후</td>\n",
       "      <td>선의왕후</td>\n",
       "      <td>[49, 52]</td>\n",
       "      <td>PER</td>\n",
       "    </tr>\n",
       "  </tbody>\n",
       "</table>\n",
       "<p>69552 rows × 9 columns</p>\n",
       "</div>"
      ],
      "text/plain": [
       "            id               label object_entity object_idx object_type  \\\n",
       "0         22.0          per:spouse           문재인   [58, 60]         PER   \n",
       "1         25.0          per:spouse     엘레나 차우셰스쿠   [67, 69]         PER   \n",
       "2         33.0          per:spouse           강주은   [13, 21]         PER   \n",
       "3         40.0          per:spouse           고소영     [3, 5]         PER   \n",
       "4         77.0          per:spouse           한인하   [11, 13]         PER   \n",
       "...        ...                 ...           ...        ...         ...   \n",
       "69547  27073.0  per:place_of_death   조선민주주의인민공화국   [13, 23]         LOC   \n",
       "69548  28326.0  per:place_of_death        미국 뉴욕주   [35, 40]         LOC   \n",
       "69549  29260.0  per:place_of_death           진나라   [38, 40]         DAT   \n",
       "69550  30002.0  per:place_of_death          대한민국   [44, 47]         LOC   \n",
       "69551  30981.0  per:place_of_death  경희궁 어조당(魚藻堂)   [12, 23]         POH   \n",
       "\n",
       "                                                sentence subject_entity  \\\n",
       "0      김정숙은 첫 부인과의 사이에 장녀 박병숙을 두었고, 두 번째 부인은 경희대학교 교수...            김정숙   \n",
       "1         엘레나 차우셰스쿠 회장이 수감 중 구치소에 라텍스 베개를 배포하였다거나 이혼 소송      니콜라에 차우셰스쿠   \n",
       "2                                 최민수는 이후 강주은을 생명의 은인으로             최민수   \n",
       "3                                      고소영(35) 씨와 남편 장동건            장동건   \n",
       "4                                         박흥식 대통령 부인 한인하            박흥식   \n",
       "...                                                  ...            ...   \n",
       "69547  조선민주주의인민공화국했으며 1635년 러시아 차르국의 차르였던 미하일 1세의 요청에...            리승엽   \n",
       "69548                           미국 뉴욕주마르세유에서 유고슬라비아 손다이크           손다이크   \n",
       "69549                           진시황이 사망한 직후였으며 이로 인해 진나라            진시황   \n",
       "69550   손원일헤임은 1951년 1월 27일(협정 세계시), 핀란드 시간으로는 1월 28대한민국            손원일   \n",
       "69551          경희궁 어조당(魚藻堂)이 함락되자 의병장인 김천일·고종후와 함께 촉선의왕후           선의왕후   \n",
       "\n",
       "      subject_idx subject_type  \n",
       "0          [0, 3]          PER  \n",
       "1      [110, 112]          PER  \n",
       "2          [0, 7]          PER  \n",
       "3        [17, 19]          PER  \n",
       "4          [0, 2]          PER  \n",
       "...           ...          ...  \n",
       "69547    [68, 70]          PER  \n",
       "69548    [55, 58]          PER  \n",
       "69549    [17, 19]          PER  \n",
       "69550      [0, 2]          PER  \n",
       "69551    [49, 52]          PER  \n",
       "\n",
       "[69552 rows x 9 columns]"
      ]
     },
     "execution_count": 72,
     "metadata": {},
     "output_type": "execute_result"
    }
   ],
   "source": [
    "final_df"
   ]
  },
  {
   "cell_type": "code",
   "execution_count": 76,
   "id": "d2f4864c-7a5b-49a6-ae9e-90130e1a953f",
   "metadata": {},
   "outputs": [
    {
     "name": "stderr",
     "output_type": "stream",
     "text": [
      "<ipython-input-76-a1036205e857>:4: SettingWithCopyWarning: \n",
      "A value is trying to be set on a copy of a slice from a DataFrame.\n",
      "Try using .loc[row_indexer,col_indexer] = value instead\n",
      "\n",
      "See the caveats in the documentation: https://pandas.pydata.org/pandas-docs/stable/user_guide/indexing.html#returning-a-view-versus-a-copy\n",
      "  final_df['id'] = [i for i in range(len(final_df))]\n",
      "/opt/conda/lib/python3.8/site-packages/pandas/core/frame.py:4167: SettingWithCopyWarning: \n",
      "A value is trying to be set on a copy of a slice from a DataFrame\n",
      "\n",
      "See the caveats in the documentation: https://pandas.pydata.org/pandas-docs/stable/user_guide/indexing.html#returning-a-view-versus-a-copy\n",
      "  return super().drop(\n"
     ]
    },
    {
     "data": {
      "text/html": [
       "<div>\n",
       "<style scoped>\n",
       "    .dataframe tbody tr th:only-of-type {\n",
       "        vertical-align: middle;\n",
       "    }\n",
       "\n",
       "    .dataframe tbody tr th {\n",
       "        vertical-align: top;\n",
       "    }\n",
       "\n",
       "    .dataframe thead th {\n",
       "        text-align: right;\n",
       "    }\n",
       "</style>\n",
       "<table border=\"1\" class=\"dataframe\">\n",
       "  <thead>\n",
       "    <tr style=\"text-align: right;\">\n",
       "      <th></th>\n",
       "      <th>id</th>\n",
       "      <th>label</th>\n",
       "      <th>object_entity</th>\n",
       "      <th>object_idx</th>\n",
       "      <th>object_type</th>\n",
       "      <th>sentence</th>\n",
       "      <th>subject_entity</th>\n",
       "      <th>subject_idx</th>\n",
       "      <th>subject_type</th>\n",
       "    </tr>\n",
       "  </thead>\n",
       "  <tbody>\n",
       "    <tr>\n",
       "      <th>0</th>\n",
       "      <td>0</td>\n",
       "      <td>per:spouse</td>\n",
       "      <td>문재인</td>\n",
       "      <td>[58, 60]</td>\n",
       "      <td>PER</td>\n",
       "      <td>김정숙은 첫 부인과의 사이에 장녀 박병숙을 두었고, 두 번째 부인은 경희대학교 교수...</td>\n",
       "      <td>김정숙</td>\n",
       "      <td>[0, 3]</td>\n",
       "      <td>PER</td>\n",
       "    </tr>\n",
       "    <tr>\n",
       "      <th>1</th>\n",
       "      <td>1</td>\n",
       "      <td>per:spouse</td>\n",
       "      <td>엘레나 차우셰스쿠</td>\n",
       "      <td>[67, 69]</td>\n",
       "      <td>PER</td>\n",
       "      <td>엘레나 차우셰스쿠 회장이 수감 중 구치소에 라텍스 베개를 배포하였다거나 이혼 소송</td>\n",
       "      <td>니콜라에 차우셰스쿠</td>\n",
       "      <td>[110, 112]</td>\n",
       "      <td>PER</td>\n",
       "    </tr>\n",
       "    <tr>\n",
       "      <th>2</th>\n",
       "      <td>2</td>\n",
       "      <td>per:spouse</td>\n",
       "      <td>강주은</td>\n",
       "      <td>[13, 21]</td>\n",
       "      <td>PER</td>\n",
       "      <td>최민수는 이후 강주은을 생명의 은인으로</td>\n",
       "      <td>최민수</td>\n",
       "      <td>[0, 7]</td>\n",
       "      <td>PER</td>\n",
       "    </tr>\n",
       "    <tr>\n",
       "      <th>3</th>\n",
       "      <td>3</td>\n",
       "      <td>per:spouse</td>\n",
       "      <td>고소영</td>\n",
       "      <td>[3, 5]</td>\n",
       "      <td>PER</td>\n",
       "      <td>고소영(35) 씨와 남편 장동건</td>\n",
       "      <td>장동건</td>\n",
       "      <td>[17, 19]</td>\n",
       "      <td>PER</td>\n",
       "    </tr>\n",
       "    <tr>\n",
       "      <th>4</th>\n",
       "      <td>4</td>\n",
       "      <td>per:spouse</td>\n",
       "      <td>한인하</td>\n",
       "      <td>[11, 13]</td>\n",
       "      <td>PER</td>\n",
       "      <td>박흥식 대통령 부인 한인하</td>\n",
       "      <td>박흥식</td>\n",
       "      <td>[0, 2]</td>\n",
       "      <td>PER</td>\n",
       "    </tr>\n",
       "    <tr>\n",
       "      <th>...</th>\n",
       "      <td>...</td>\n",
       "      <td>...</td>\n",
       "      <td>...</td>\n",
       "      <td>...</td>\n",
       "      <td>...</td>\n",
       "      <td>...</td>\n",
       "      <td>...</td>\n",
       "      <td>...</td>\n",
       "      <td>...</td>\n",
       "    </tr>\n",
       "    <tr>\n",
       "      <th>62921</th>\n",
       "      <td>62921</td>\n",
       "      <td>per:place_of_death</td>\n",
       "      <td>쾰른</td>\n",
       "      <td>[20, 21]</td>\n",
       "      <td>LOC</td>\n",
       "      <td>마리 드 메디시스 암쾰른</td>\n",
       "      <td>마리 드 메디시스</td>\n",
       "      <td>[9, 17]</td>\n",
       "      <td>PER</td>\n",
       "    </tr>\n",
       "    <tr>\n",
       "      <th>62922</th>\n",
       "      <td>62922</td>\n",
       "      <td>per:place_of_death</td>\n",
       "      <td>조선민주주의인민공화국</td>\n",
       "      <td>[19, 29]</td>\n",
       "      <td>LOC</td>\n",
       "      <td>조선민주주의인민공화국두 번의 전투를 치르고 난 뒤, 로마군은 승리하고 브루투리승엽</td>\n",
       "      <td>리승엽</td>\n",
       "      <td>[61, 63]</td>\n",
       "      <td>PER</td>\n",
       "    </tr>\n",
       "    <tr>\n",
       "      <th>62923</th>\n",
       "      <td>62923</td>\n",
       "      <td>per:place_of_death</td>\n",
       "      <td>슈파이어</td>\n",
       "      <td>[80, 83]</td>\n",
       "      <td>LOC</td>\n",
       "      <td>루돌프 1세 드 부용이 죽자 보두앵이 예루살렘에슈파이어</td>\n",
       "      <td>루돌프 1세</td>\n",
       "      <td>[54, 59]</td>\n",
       "      <td>PER</td>\n",
       "    </tr>\n",
       "    <tr>\n",
       "      <th>62924</th>\n",
       "      <td>62924</td>\n",
       "      <td>per:place_of_death</td>\n",
       "      <td>조선민주주의인민공화국</td>\n",
       "      <td>[13, 23]</td>\n",
       "      <td>LOC</td>\n",
       "      <td>조선민주주의인민공화국했으며 1635년 러시아 차르국의 차르였던 미하일 1세의 요청에...</td>\n",
       "      <td>리승엽</td>\n",
       "      <td>[68, 70]</td>\n",
       "      <td>PER</td>\n",
       "    </tr>\n",
       "    <tr>\n",
       "      <th>62925</th>\n",
       "      <td>62925</td>\n",
       "      <td>per:place_of_death</td>\n",
       "      <td>미국 뉴욕주</td>\n",
       "      <td>[35, 40]</td>\n",
       "      <td>LOC</td>\n",
       "      <td>미국 뉴욕주마르세유에서 유고슬라비아 손다이크</td>\n",
       "      <td>손다이크</td>\n",
       "      <td>[55, 58]</td>\n",
       "      <td>PER</td>\n",
       "    </tr>\n",
       "  </tbody>\n",
       "</table>\n",
       "<p>62926 rows × 9 columns</p>\n",
       "</div>"
      ],
      "text/plain": [
       "          id               label object_entity object_idx object_type  \\\n",
       "0          0          per:spouse           문재인   [58, 60]         PER   \n",
       "1          1          per:spouse     엘레나 차우셰스쿠   [67, 69]         PER   \n",
       "2          2          per:spouse           강주은   [13, 21]         PER   \n",
       "3          3          per:spouse           고소영     [3, 5]         PER   \n",
       "4          4          per:spouse           한인하   [11, 13]         PER   \n",
       "...      ...                 ...           ...        ...         ...   \n",
       "62921  62921  per:place_of_death            쾰른   [20, 21]         LOC   \n",
       "62922  62922  per:place_of_death   조선민주주의인민공화국   [19, 29]         LOC   \n",
       "62923  62923  per:place_of_death          슈파이어   [80, 83]         LOC   \n",
       "62924  62924  per:place_of_death   조선민주주의인민공화국   [13, 23]         LOC   \n",
       "62925  62925  per:place_of_death        미국 뉴욕주   [35, 40]         LOC   \n",
       "\n",
       "                                                sentence subject_entity  \\\n",
       "0      김정숙은 첫 부인과의 사이에 장녀 박병숙을 두었고, 두 번째 부인은 경희대학교 교수...            김정숙   \n",
       "1         엘레나 차우셰스쿠 회장이 수감 중 구치소에 라텍스 베개를 배포하였다거나 이혼 소송      니콜라에 차우셰스쿠   \n",
       "2                                 최민수는 이후 강주은을 생명의 은인으로             최민수   \n",
       "3                                      고소영(35) 씨와 남편 장동건            장동건   \n",
       "4                                         박흥식 대통령 부인 한인하            박흥식   \n",
       "...                                                  ...            ...   \n",
       "62921                                      마리 드 메디시스 암쾰른      마리 드 메디시스   \n",
       "62922      조선민주주의인민공화국두 번의 전투를 치르고 난 뒤, 로마군은 승리하고 브루투리승엽            리승엽   \n",
       "62923                     루돌프 1세 드 부용이 죽자 보두앵이 예루살렘에슈파이어         루돌프 1세   \n",
       "62924  조선민주주의인민공화국했으며 1635년 러시아 차르국의 차르였던 미하일 1세의 요청에...            리승엽   \n",
       "62925                           미국 뉴욕주마르세유에서 유고슬라비아 손다이크           손다이크   \n",
       "\n",
       "      subject_idx subject_type  \n",
       "0          [0, 3]          PER  \n",
       "1      [110, 112]          PER  \n",
       "2          [0, 7]          PER  \n",
       "3        [17, 19]          PER  \n",
       "4          [0, 2]          PER  \n",
       "...           ...          ...  \n",
       "62921     [9, 17]          PER  \n",
       "62922    [61, 63]          PER  \n",
       "62923    [54, 59]          PER  \n",
       "62924    [68, 70]          PER  \n",
       "62925    [55, 58]          PER  \n",
       "\n",
       "[62926 rows x 9 columns]"
      ]
     },
     "execution_count": 76,
     "metadata": {},
     "output_type": "execute_result"
    }
   ],
   "source": [
    "# 문장, sub, obj, label 모두 같으면 첫번째꺼 빼고 다 삭제시켜버리기~\n",
    "final_df = final_df.drop_duplicates(['sentence','subject_entity','object_entity', 'label'], keep='first', inplace=False, ignore_index = True)\n",
    "\n",
    "final_df['id'] = [i for i in range(len(final_df))]\n",
    "final_df.reset_index(drop=False, inplace=True)\n",
    "final_df.drop(['index'], axis=1, inplace=True)\n",
    "final_df"
   ]
  },
  {
   "cell_type": "code",
   "execution_count": 77,
   "id": "1af5048e-70cf-4273-bc8b-68da1b160a30",
   "metadata": {},
   "outputs": [
    {
     "data": {
      "text/plain": [
       "Text(0.5, 1.0, 'gen_train_dataset: label')"
      ]
     },
     "execution_count": 77,
     "metadata": {},
     "output_type": "execute_result"
    },
    {
     "data": {
      "image/png": "[encoded data removed]",
      "text/plain": [
       "<Figure size 1080x360 with 2 Axes>"
      ]
     },
     "metadata": {
      "needs_background": "light"
     },
     "output_type": "display_data"
    }
   ],
   "source": [
    "import seaborn as sns\n",
    "import matplotlib.pyplot as plt\n",
    "\n",
    "fig, ax = plt.subplots(ncols=2, figsize=(15, 5))\n",
    "sns.countplot(y=final_df['label'], ax=ax[0], order = final_df['label'].value_counts().index).set_title(\"gen_train_dataset: label\")"
   ]
  },
  {
   "cell_type": "code",
   "execution_count": 79,
   "id": "ac529541-f12e-48e4-95a6-13b862ce0db0",
   "metadata": {},
   "outputs": [
    {
     "data": {
      "text/plain": [
       "per:place_of_birth                     3704\n",
       "org:dissolved                          3683\n",
       "per:siblings                           3667\n",
       "per:other_family                       3638\n",
       "per:product                            3637\n",
       "org:founded_by                         3624\n",
       "per:schools_attended                   3536\n",
       "per:place_of_residence                 3463\n",
       "org:number_of_employees/members        3411\n",
       "per:place_of_death                     3271\n",
       "per:religion                           3235\n",
       "per:children                           3213\n",
       "org:political/religious_affiliation    3182\n",
       "org:product                            2975\n",
       "per:date_of_death                      2883\n",
       "org:members                            2879\n",
       "org:founded                            2687\n",
       "per:colleagues                         2600\n",
       "per:parents                            2065\n",
       "per:spouse                             1573\n",
       "Name: label, dtype: int64"
      ]
     },
     "execution_count": 79,
     "metadata": {},
     "output_type": "execute_result"
    }
   ],
   "source": [
    "final_df['label'].value_counts()"
   ]
  },
  {
   "cell_type": "code",
   "execution_count": 80,
   "id": "4822e614-8007-4ea7-b63c-25135f73c2a5",
   "metadata": {},
   "outputs": [],
   "source": [
    "gen_generated = pd.read_csv(\"/opt/ml/temp_dataset/generated_dataset.csv\", index_col = 0, encoding='utf-8')\n"
   ]
  },
  {
   "cell_type": "code",
   "execution_count": 84,
   "id": "0ce3be7e-59ed-4223-a96f-b17e7c1ee706",
   "metadata": {},
   "outputs": [],
   "source": [
    "최종_gen_df = pd.concat([final_df,gen_generated], ignore_index=True)"
   ]
  },
  {
   "cell_type": "code",
   "execution_count": 85,
   "id": "3da5c78f-9585-4b9e-875c-e6684a872b75",
   "metadata": {},
   "outputs": [
    {
     "data": {
      "text/html": [
       "<div>\n",
       "<style scoped>\n",
       "    .dataframe tbody tr th:only-of-type {\n",
       "        vertical-align: middle;\n",
       "    }\n",
       "\n",
       "    .dataframe tbody tr th {\n",
       "        vertical-align: top;\n",
       "    }\n",
       "\n",
       "    .dataframe thead th {\n",
       "        text-align: right;\n",
       "    }\n",
       "</style>\n",
       "<table border=\"1\" class=\"dataframe\">\n",
       "  <thead>\n",
       "    <tr style=\"text-align: right;\">\n",
       "      <th></th>\n",
       "      <th>id</th>\n",
       "      <th>label</th>\n",
       "      <th>object_entity</th>\n",
       "      <th>object_idx</th>\n",
       "      <th>object_type</th>\n",
       "      <th>sentence</th>\n",
       "      <th>subject_entity</th>\n",
       "      <th>subject_idx</th>\n",
       "      <th>subject_type</th>\n",
       "    </tr>\n",
       "  </thead>\n",
       "  <tbody>\n",
       "    <tr>\n",
       "      <th>0</th>\n",
       "      <td>0</td>\n",
       "      <td>per:spouse</td>\n",
       "      <td>문재인</td>\n",
       "      <td>[58, 60]</td>\n",
       "      <td>PER</td>\n",
       "      <td>김정숙은 첫 부인과의 사이에 장녀 박병숙을 두었고, 두 번째 부인은 경희대학교 교수...</td>\n",
       "      <td>김정숙</td>\n",
       "      <td>[0, 3]</td>\n",
       "      <td>PER</td>\n",
       "    </tr>\n",
       "    <tr>\n",
       "      <th>1</th>\n",
       "      <td>1</td>\n",
       "      <td>per:spouse</td>\n",
       "      <td>엘레나 차우셰스쿠</td>\n",
       "      <td>[67, 69]</td>\n",
       "      <td>PER</td>\n",
       "      <td>엘레나 차우셰스쿠 회장이 수감 중 구치소에 라텍스 베개를 배포하였다거나 이혼 소송</td>\n",
       "      <td>니콜라에 차우셰스쿠</td>\n",
       "      <td>[110, 112]</td>\n",
       "      <td>PER</td>\n",
       "    </tr>\n",
       "    <tr>\n",
       "      <th>2</th>\n",
       "      <td>2</td>\n",
       "      <td>per:spouse</td>\n",
       "      <td>강주은</td>\n",
       "      <td>[13, 21]</td>\n",
       "      <td>PER</td>\n",
       "      <td>최민수는 이후 강주은을 생명의 은인으로</td>\n",
       "      <td>최민수</td>\n",
       "      <td>[0, 7]</td>\n",
       "      <td>PER</td>\n",
       "    </tr>\n",
       "    <tr>\n",
       "      <th>3</th>\n",
       "      <td>3</td>\n",
       "      <td>per:spouse</td>\n",
       "      <td>고소영</td>\n",
       "      <td>[3, 5]</td>\n",
       "      <td>PER</td>\n",
       "      <td>고소영(35) 씨와 남편 장동건</td>\n",
       "      <td>장동건</td>\n",
       "      <td>[17, 19]</td>\n",
       "      <td>PER</td>\n",
       "    </tr>\n",
       "    <tr>\n",
       "      <th>4</th>\n",
       "      <td>4</td>\n",
       "      <td>per:spouse</td>\n",
       "      <td>한인하</td>\n",
       "      <td>[11, 13]</td>\n",
       "      <td>PER</td>\n",
       "      <td>박흥식 대통령 부인 한인하</td>\n",
       "      <td>박흥식</td>\n",
       "      <td>[0, 2]</td>\n",
       "      <td>PER</td>\n",
       "    </tr>\n",
       "    <tr>\n",
       "      <th>...</th>\n",
       "      <td>...</td>\n",
       "      <td>...</td>\n",
       "      <td>...</td>\n",
       "      <td>...</td>\n",
       "      <td>...</td>\n",
       "      <td>...</td>\n",
       "      <td>...</td>\n",
       "      <td>...</td>\n",
       "      <td>...</td>\n",
       "    </tr>\n",
       "    <tr>\n",
       "      <th>109598</th>\n",
       "      <td>53186</td>\n",
       "      <td>per:title</td>\n",
       "      <td>골키퍼</td>\n",
       "      <td>[0, 2]</td>\n",
       "      <td>POH</td>\n",
       "      <td>골키퍼 이광연 선수는 현재 이광연 선수는 강원도에서 진행하고 있는 2020 FIFA...</td>\n",
       "      <td>이광연</td>\n",
       "      <td>[4, 6]</td>\n",
       "      <td>PER</td>\n",
       "    </tr>\n",
       "    <tr>\n",
       "      <th>109599</th>\n",
       "      <td>53187</td>\n",
       "      <td>per:employee_of</td>\n",
       "      <td>YG 엔터테인먼트</td>\n",
       "      <td>[4, 12]</td>\n",
       "      <td>ORG</td>\n",
       "      <td>킵식스 YG 엔터테인먼트가 한국 프로야구에 진출한 지 5년 만에 한국 프로야구 역사...</td>\n",
       "      <td>킵식스</td>\n",
       "      <td>[0, 2]</td>\n",
       "      <td>PER</td>\n",
       "    </tr>\n",
       "    <tr>\n",
       "      <th>109600</th>\n",
       "      <td>53188</td>\n",
       "      <td>per:title</td>\n",
       "      <td>보건복지부장관</td>\n",
       "      <td>[0, 6]</td>\n",
       "      <td>POH</td>\n",
       "      <td>보건복지부장관 박능후)는 6월 1일(금) 국무회의에서 「아동학대 방지대책」을 보고하...</td>\n",
       "      <td>박능후</td>\n",
       "      <td>[8, 10]</td>\n",
       "      <td>PER</td>\n",
       "    </tr>\n",
       "    <tr>\n",
       "      <th>109601</th>\n",
       "      <td>53189</td>\n",
       "      <td>no_relation</td>\n",
       "      <td>알렉산드라</td>\n",
       "      <td>[0, 4]</td>\n",
       "      <td>PER</td>\n",
       "      <td>알렉산드라은 알렉산드르 3세를 계승하였다. 그러자 유럽의 강대국들은 모두 알렉산드르...</td>\n",
       "      <td>알렉산드르 3세</td>\n",
       "      <td>[7, 14]</td>\n",
       "      <td>PER</td>\n",
       "    </tr>\n",
       "    <tr>\n",
       "      <th>109602</th>\n",
       "      <td>53190</td>\n",
       "      <td>per:title</td>\n",
       "      <td>음양사</td>\n",
       "      <td>[24, 26]</td>\n",
       "      <td>POH</td>\n",
       "      <td>스메라기 스바루 중앙재난안전대책본부 1차장(음양사'프로듀서) / 사진=문화체육관광부...</td>\n",
       "      <td>스메라기 스바루</td>\n",
       "      <td>[0, 7]</td>\n",
       "      <td>PER</td>\n",
       "    </tr>\n",
       "  </tbody>\n",
       "</table>\n",
       "<p>109603 rows × 9 columns</p>\n",
       "</div>"
      ],
      "text/plain": [
       "           id            label object_entity object_idx object_type  \\\n",
       "0           0       per:spouse           문재인   [58, 60]         PER   \n",
       "1           1       per:spouse     엘레나 차우셰스쿠   [67, 69]         PER   \n",
       "2           2       per:spouse           강주은   [13, 21]         PER   \n",
       "3           3       per:spouse           고소영     [3, 5]         PER   \n",
       "4           4       per:spouse           한인하   [11, 13]         PER   \n",
       "...       ...              ...           ...        ...         ...   \n",
       "109598  53186        per:title           골키퍼     [0, 2]         POH   \n",
       "109599  53187  per:employee_of     YG 엔터테인먼트    [4, 12]         ORG   \n",
       "109600  53188        per:title       보건복지부장관     [0, 6]         POH   \n",
       "109601  53189      no_relation         알렉산드라     [0, 4]         PER   \n",
       "109602  53190        per:title           음양사   [24, 26]         POH   \n",
       "\n",
       "                                                 sentence subject_entity  \\\n",
       "0       김정숙은 첫 부인과의 사이에 장녀 박병숙을 두었고, 두 번째 부인은 경희대학교 교수...            김정숙   \n",
       "1          엘레나 차우셰스쿠 회장이 수감 중 구치소에 라텍스 베개를 배포하였다거나 이혼 소송      니콜라에 차우셰스쿠   \n",
       "2                                  최민수는 이후 강주은을 생명의 은인으로             최민수   \n",
       "3                                       고소영(35) 씨와 남편 장동건            장동건   \n",
       "4                                          박흥식 대통령 부인 한인하            박흥식   \n",
       "...                                                   ...            ...   \n",
       "109598  골키퍼 이광연 선수는 현재 이광연 선수는 강원도에서 진행하고 있는 2020 FIFA...            이광연   \n",
       "109599  킵식스 YG 엔터테인먼트가 한국 프로야구에 진출한 지 5년 만에 한국 프로야구 역사...            킵식스   \n",
       "109600  보건복지부장관 박능후)는 6월 1일(금) 국무회의에서 「아동학대 방지대책」을 보고하...            박능후   \n",
       "109601  알렉산드라은 알렉산드르 3세를 계승하였다. 그러자 유럽의 강대국들은 모두 알렉산드르...       알렉산드르 3세   \n",
       "109602  스메라기 스바루 중앙재난안전대책본부 1차장(음양사'프로듀서) / 사진=문화체육관광부...       스메라기 스바루   \n",
       "\n",
       "       subject_idx subject_type  \n",
       "0           [0, 3]          PER  \n",
       "1       [110, 112]          PER  \n",
       "2           [0, 7]          PER  \n",
       "3         [17, 19]          PER  \n",
       "4           [0, 2]          PER  \n",
       "...            ...          ...  \n",
       "109598      [4, 6]          PER  \n",
       "109599      [0, 2]          PER  \n",
       "109600     [8, 10]          PER  \n",
       "109601     [7, 14]          PER  \n",
       "109602      [0, 7]          PER  \n",
       "\n",
       "[109603 rows x 9 columns]"
      ]
     },
     "execution_count": 85,
     "metadata": {},
     "output_type": "execute_result"
    }
   ],
   "source": [
    "최종_gen_df"
   ]
  },
  {
   "cell_type": "code",
   "execution_count": 86,
   "id": "14bea433-5b57-43f3-a509-2afc042dc8f5",
   "metadata": {},
   "outputs": [
    {
     "data": {
      "text/plain": [
       "no_relation                            11149\n",
       "org:top_members/employees               4994\n",
       "per:employee_of                         4175\n",
       "per:place_of_birth                      3997\n",
       "per:other_family                        3983\n",
       "org:founded_by                          3909\n",
       "per:siblings                            3897\n",
       "per:product                             3884\n",
       "org:dissolved                           3804\n",
       "per:place_of_residence                  3787\n",
       "per:children                            3746\n",
       "per:title                               3681\n",
       "per:schools_attended                    3674\n",
       "org:product                             3640\n",
       "org:members                             3597\n",
       "per:date_of_death                       3588\n",
       "per:colleagues                          3538\n",
       "org:number_of_employees/members         3496\n",
       "org:founded                             3472\n",
       "per:religion                            3402\n",
       "org:political/religious_affiliation     3359\n",
       "per:place_of_death                      3339\n",
       "org:member_of                           3254\n",
       "per:spouse                              2987\n",
       "per:parents                             2964\n",
       "org:alternate_names                     2338\n",
       "per:origin                              2147\n",
       "org:place_of_headquarters               2053\n",
       "per:date_of_birth                       1988\n",
       "per:alternate_names                     1761\n",
       "Name: label, dtype: int64"
      ]
     },
     "execution_count": 86,
     "metadata": {},
     "output_type": "execute_result"
    }
   ],
   "source": [
    "최종_gen_df['label'].value_counts()"
   ]
  },
  {
   "cell_type": "code",
   "execution_count": 87,
   "id": "911952f2-4b92-40f7-be79-2ac3f6b9b269",
   "metadata": {},
   "outputs": [
    {
     "data": {
      "text/plain": [
       "Text(0.5, 1.0, 'gen_train_dataset: label')"
      ]
     },
     "execution_count": 87,
     "metadata": {},
     "output_type": "execute_result"
    },
    {
     "data": {
      "image/png": "[encoded data removed]",
      "text/plain": [
       "<Figure size 1080x360 with 2 Axes>"
      ]
     },
     "metadata": {
      "needs_background": "light"
     },
     "output_type": "display_data"
    }
   ],
   "source": [
    "import seaborn as sns\n",
    "import matplotlib.pyplot as plt\n",
    "\n",
    "fig, ax = plt.subplots(ncols=2, figsize=(15, 5))\n",
    "sns.countplot(y=최종_gen_df['label'], ax=ax[0], order = 최종_gen_df['label'].value_counts().index).set_title(\"gen_train_dataset: label\")"
   ]
  },
  {
   "cell_type": "code",
   "execution_count": 88,
   "id": "034a19bc-bf31-4f66-82c1-257aa2c2ac87",
   "metadata": {},
   "outputs": [
    {
     "data": {
      "text/plain": [
       "Text(0.5, 1.0, 'gen_train_dataset: label')"
      ]
     },
     "execution_count": 88,
     "metadata": {},
     "output_type": "execute_result"
    },
    {
     "data": {
      "image/png": "[encoded data removed]",
      "text/plain": [
       "<Figure size 1080x360 with 2 Axes>"
      ]
     },
     "metadata": {
      "needs_background": "light"
     },
     "output_type": "display_data"
    }
   ],
   "source": [
    "최종_df = pd.concat([최종_gen_df,df_vanila_temp], ignore_index=True)\n",
    "import seaborn as sns\n",
    "import matplotlib.pyplot as plt\n",
    "\n",
    "fig, ax = plt.subplots(ncols=2, figsize=(15, 5))\n",
    "sns.countplot(y=최종_df['label'], ax=ax[0], order = 최종_df['label'].value_counts().index).set_title(\"gen_train_dataset: label\")"
   ]
  },
  {
   "cell_type": "code",
   "execution_count": 89,
   "id": "57d7bfb2-a264-426c-aaf0-efda69cb0e7f",
   "metadata": {},
   "outputs": [
    {
     "data": {
      "text/plain": [
       "no_relation                            20679\n",
       "org:top_members/employees               9278\n",
       "per:employee_of                         7748\n",
       "per:title                               5784\n",
       "org:member_of                           5120\n",
       "per:other_family                        4173\n",
       "per:place_of_birth                      4163\n",
       "per:colleagues                          4072\n",
       "org:founded_by                          4064\n",
       "per:children                            4050\n",
       "per:siblings                            4033\n",
       "per:product                             4023\n",
       "org:product                             4020\n",
       "org:members                             4016\n",
       "per:date_of_death                       4006\n",
       "per:place_of_residence                  3979\n",
       "org:founded                             3922\n",
       "org:dissolved                           3870\n",
       "per:spouse                              3782\n",
       "per:schools_attended                    3756\n",
       "org:alternate_names                     3658\n",
       "org:number_of_employees/members         3544\n",
       "per:religion                            3498\n",
       "per:parents                             3484\n",
       "org:political/religious_affiliation     3457\n",
       "per:origin                              3381\n",
       "per:place_of_death                      3379\n",
       "org:place_of_headquarters               3248\n",
       "per:date_of_birth                       3118\n",
       "per:alternate_names                     2762\n",
       "Name: label, dtype: int64"
      ]
     },
     "execution_count": 89,
     "metadata": {},
     "output_type": "execute_result"
    }
   ],
   "source": [
    "최종_df['label'].value_counts()"
   ]
  }
 ],
 "metadata": {
  "kernelspec": {
   "display_name": "Python 3",
   "language": "python",
   "name": "python3"
  },
  "language_info": {
   "codemirror_mode": {
    "name": "ipython",
    "version": 3
   },
   "file_extension": ".py",
   "mimetype": "text/x-python",
   "name": "python",
   "nbconvert_exporter": "python",
   "pygments_lexer": "ipython3",
   "version": "3.8.5"
  }
 },
 "nbformat": 4,
 "nbformat_minor": 5
}
