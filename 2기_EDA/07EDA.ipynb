{
 "cells": [
  {
   "cell_type": "code",
   "execution_count": 2,
   "id": "b4edc0b4-02ec-4119-9c26-05925535900c",
   "metadata": {},
   "outputs": [],
   "source": [
    "import pandas as pd\n",
    "import numpy as np\n",
    "\n",
    "import pickle\n",
    "\n",
    "import seaborn as sns\n",
    "from matplotlib import pyplot as plt\n",
    "%matplotlib inline"
   ]
  },
  {
   "cell_type": "markdown",
   "id": "b769cf42-99b8-4487-945d-9179e9bf5b34",
   "metadata": {},
   "source": [
    "### csv 파일 살펴보기"
   ]
  },
  {
   "cell_type": "code",
   "execution_count": 3,
   "id": "c76b55d3-98ca-408e-a635-4c045bba70e7",
   "metadata": {},
   "outputs": [],
   "source": [
    "train_dir = '../dataset/train/train.csv'\n",
    "test_dir = '../dataset/test/test_data.csv'"
   ]
  },
  {
   "cell_type": "code",
   "execution_count": 4,
   "id": "4e56f06d-cc6f-4ec4-b1c5-ab092321a541",
   "metadata": {},
   "outputs": [],
   "source": [
    "train = pd.read_csv(train_dir)\n",
    "test = pd.read_csv(test_dir)"
   ]
  },
  {
   "cell_type": "code",
   "execution_count": 6,
   "id": "5f2a7047-14ea-4d09-baa0-30af7575524e",
   "metadata": {},
   "outputs": [
    {
     "data": {
      "text/html": [
       "<div>\n",
       "<style scoped>\n",
       "    .dataframe tbody tr th:only-of-type {\n",
       "        vertical-align: middle;\n",
       "    }\n",
       "\n",
       "    .dataframe tbody tr th {\n",
       "        vertical-align: top;\n",
       "    }\n",
       "\n",
       "    .dataframe thead th {\n",
       "        text-align: right;\n",
       "    }\n",
       "</style>\n",
       "<table border=\"1\" class=\"dataframe\">\n",
       "  <thead>\n",
       "    <tr style=\"text-align: right;\">\n",
       "      <th></th>\n",
       "      <th>id</th>\n",
       "      <th>sentence</th>\n",
       "      <th>subject_entity</th>\n",
       "      <th>object_entity</th>\n",
       "      <th>label</th>\n",
       "      <th>source</th>\n",
       "    </tr>\n",
       "  </thead>\n",
       "  <tbody>\n",
       "    <tr>\n",
       "      <th>0</th>\n",
       "      <td>0</td>\n",
       "      <td>〈Something〉는 조지 해리슨이 쓰고 비틀즈가 1969년 앨범 《Abbey R...</td>\n",
       "      <td>{'word': '비틀즈', 'start_idx': 24, 'end_idx': 26...</td>\n",
       "      <td>{'word': '조지 해리슨', 'start_idx': 13, 'end_idx':...</td>\n",
       "      <td>no_relation</td>\n",
       "      <td>wikipedia</td>\n",
       "    </tr>\n",
       "    <tr>\n",
       "      <th>1</th>\n",
       "      <td>1</td>\n",
       "      <td>호남이 기반인 바른미래당·대안신당·민주평화당이 우여곡절 끝에 합당해 민생당(가칭)으...</td>\n",
       "      <td>{'word': '민주평화당', 'start_idx': 19, 'end_idx': ...</td>\n",
       "      <td>{'word': '대안신당', 'start_idx': 14, 'end_idx': 1...</td>\n",
       "      <td>no_relation</td>\n",
       "      <td>wikitree</td>\n",
       "    </tr>\n",
       "    <tr>\n",
       "      <th>2</th>\n",
       "      <td>2</td>\n",
       "      <td>K리그2에서 성적 1위를 달리고 있는 광주FC는 지난 26일 한국프로축구연맹으로부터...</td>\n",
       "      <td>{'word': '광주FC', 'start_idx': 21, 'end_idx': 2...</td>\n",
       "      <td>{'word': '한국프로축구연맹', 'start_idx': 34, 'end_idx...</td>\n",
       "      <td>org:member_of</td>\n",
       "      <td>wikitree</td>\n",
       "    </tr>\n",
       "    <tr>\n",
       "      <th>3</th>\n",
       "      <td>3</td>\n",
       "      <td>균일가 생활용품점 (주)아성다이소(대표 박정부)는 코로나19 바이러스로 어려움을 겪...</td>\n",
       "      <td>{'word': '아성다이소', 'start_idx': 13, 'end_idx': ...</td>\n",
       "      <td>{'word': '박정부', 'start_idx': 22, 'end_idx': 24...</td>\n",
       "      <td>org:top_members/employees</td>\n",
       "      <td>wikitree</td>\n",
       "    </tr>\n",
       "    <tr>\n",
       "      <th>4</th>\n",
       "      <td>4</td>\n",
       "      <td>1967년 프로 야구 드래프트 1순위로 요미우리 자이언츠에게 입단하면서 등번호는 8...</td>\n",
       "      <td>{'word': '요미우리 자이언츠', 'start_idx': 22, 'end_id...</td>\n",
       "      <td>{'word': '1967', 'start_idx': 0, 'end_idx': 3,...</td>\n",
       "      <td>no_relation</td>\n",
       "      <td>wikipedia</td>\n",
       "    </tr>\n",
       "  </tbody>\n",
       "</table>\n",
       "</div>"
      ],
      "text/plain": [
       "   id                                           sentence  \\\n",
       "0   0  〈Something〉는 조지 해리슨이 쓰고 비틀즈가 1969년 앨범 《Abbey R...   \n",
       "1   1  호남이 기반인 바른미래당·대안신당·민주평화당이 우여곡절 끝에 합당해 민생당(가칭)으...   \n",
       "2   2  K리그2에서 성적 1위를 달리고 있는 광주FC는 지난 26일 한국프로축구연맹으로부터...   \n",
       "3   3  균일가 생활용품점 (주)아성다이소(대표 박정부)는 코로나19 바이러스로 어려움을 겪...   \n",
       "4   4  1967년 프로 야구 드래프트 1순위로 요미우리 자이언츠에게 입단하면서 등번호는 8...   \n",
       "\n",
       "                                      subject_entity  \\\n",
       "0  {'word': '비틀즈', 'start_idx': 24, 'end_idx': 26...   \n",
       "1  {'word': '민주평화당', 'start_idx': 19, 'end_idx': ...   \n",
       "2  {'word': '광주FC', 'start_idx': 21, 'end_idx': 2...   \n",
       "3  {'word': '아성다이소', 'start_idx': 13, 'end_idx': ...   \n",
       "4  {'word': '요미우리 자이언츠', 'start_idx': 22, 'end_id...   \n",
       "\n",
       "                                       object_entity  \\\n",
       "0  {'word': '조지 해리슨', 'start_idx': 13, 'end_idx':...   \n",
       "1  {'word': '대안신당', 'start_idx': 14, 'end_idx': 1...   \n",
       "2  {'word': '한국프로축구연맹', 'start_idx': 34, 'end_idx...   \n",
       "3  {'word': '박정부', 'start_idx': 22, 'end_idx': 24...   \n",
       "4  {'word': '1967', 'start_idx': 0, 'end_idx': 3,...   \n",
       "\n",
       "                       label     source  \n",
       "0                no_relation  wikipedia  \n",
       "1                no_relation   wikitree  \n",
       "2              org:member_of   wikitree  \n",
       "3  org:top_members/employees   wikitree  \n",
       "4                no_relation  wikipedia  "
      ]
     },
     "execution_count": 6,
     "metadata": {},
     "output_type": "execute_result"
    }
   ],
   "source": [
    "train.head()"
   ]
  },
  {
   "cell_type": "code",
   "execution_count": 7,
   "id": "7b67fca5-3338-489a-b516-eb8766bc9510",
   "metadata": {},
   "outputs": [
    {
     "data": {
      "text/html": [
       "<div>\n",
       "<style scoped>\n",
       "    .dataframe tbody tr th:only-of-type {\n",
       "        vertical-align: middle;\n",
       "    }\n",
       "\n",
       "    .dataframe tbody tr th {\n",
       "        vertical-align: top;\n",
       "    }\n",
       "\n",
       "    .dataframe thead th {\n",
       "        text-align: right;\n",
       "    }\n",
       "</style>\n",
       "<table border=\"1\" class=\"dataframe\">\n",
       "  <thead>\n",
       "    <tr style=\"text-align: right;\">\n",
       "      <th></th>\n",
       "      <th>id</th>\n",
       "      <th>sentence</th>\n",
       "      <th>subject_entity</th>\n",
       "      <th>object_entity</th>\n",
       "      <th>label</th>\n",
       "      <th>source</th>\n",
       "    </tr>\n",
       "  </thead>\n",
       "  <tbody>\n",
       "    <tr>\n",
       "      <th>0</th>\n",
       "      <td>0</td>\n",
       "      <td>지난 15일 MBC '탐사기획 스트레이트'가 이 사실을 보도했다.</td>\n",
       "      <td>{'word': 'MBC', 'start_idx': 7, 'end_idx': 9, ...</td>\n",
       "      <td>{'word': '탐사기획 스트레이트', 'start_idx': 12, 'end_i...</td>\n",
       "      <td>100</td>\n",
       "      <td>wikitree</td>\n",
       "    </tr>\n",
       "    <tr>\n",
       "      <th>1</th>\n",
       "      <td>1</td>\n",
       "      <td>사랑스러운 ‘프린세스 프링’의 이름은 봄의 공주님: Princess(s)Pring이...</td>\n",
       "      <td>{'word': '프린세스 프링', 'start_idx': 7, 'end_idx':...</td>\n",
       "      <td>{'word': '공주', 'start_idx': 84, 'end_idx': 85,...</td>\n",
       "      <td>100</td>\n",
       "      <td>wikipedia</td>\n",
       "    </tr>\n",
       "    <tr>\n",
       "      <th>2</th>\n",
       "      <td>2</td>\n",
       "      <td>한편, 본인(이근안)을 모델로 한 MBC 특집드라마 가 1995년 6.25 특집극으...</td>\n",
       "      <td>{'word': '경찰', 'start_idx': 121, 'end_idx': 12...</td>\n",
       "      <td>{'word': '1995년', 'start_idx': 31, 'end_idx': ...</td>\n",
       "      <td>100</td>\n",
       "      <td>wikipedia</td>\n",
       "    </tr>\n",
       "    <tr>\n",
       "      <th>3</th>\n",
       "      <td>3</td>\n",
       "      <td>정창손은 김질과 같이 대궐로 달려가 고변하며 '신은 실로 모르고 김질만 혼자 참여하...</td>\n",
       "      <td>{'word': '세조', 'start_idx': 78, 'end_idx': 79,...</td>\n",
       "      <td>{'word': '정창손', 'start_idx': 0, 'end_idx': 2, ...</td>\n",
       "      <td>100</td>\n",
       "      <td>wikipedia</td>\n",
       "    </tr>\n",
       "    <tr>\n",
       "      <th>4</th>\n",
       "      <td>4</td>\n",
       "      <td>당시 민주당 이진련 시의원은 권영진 시장에게 \"긴급 생계자금을 왜 현금으로 지원하지...</td>\n",
       "      <td>{'word': '민주당', 'start_idx': 3, 'end_idx': 5, ...</td>\n",
       "      <td>{'word': '권영진', 'start_idx': 16, 'end_idx': 18...</td>\n",
       "      <td>100</td>\n",
       "      <td>wikitree</td>\n",
       "    </tr>\n",
       "  </tbody>\n",
       "</table>\n",
       "</div>"
      ],
      "text/plain": [
       "   id                                           sentence  \\\n",
       "0   0               지난 15일 MBC '탐사기획 스트레이트'가 이 사실을 보도했다.   \n",
       "1   1  사랑스러운 ‘프린세스 프링’의 이름은 봄의 공주님: Princess(s)Pring이...   \n",
       "2   2  한편, 본인(이근안)을 모델로 한 MBC 특집드라마 가 1995년 6.25 특집극으...   \n",
       "3   3  정창손은 김질과 같이 대궐로 달려가 고변하며 '신은 실로 모르고 김질만 혼자 참여하...   \n",
       "4   4  당시 민주당 이진련 시의원은 권영진 시장에게 \"긴급 생계자금을 왜 현금으로 지원하지...   \n",
       "\n",
       "                                      subject_entity  \\\n",
       "0  {'word': 'MBC', 'start_idx': 7, 'end_idx': 9, ...   \n",
       "1  {'word': '프린세스 프링', 'start_idx': 7, 'end_idx':...   \n",
       "2  {'word': '경찰', 'start_idx': 121, 'end_idx': 12...   \n",
       "3  {'word': '세조', 'start_idx': 78, 'end_idx': 79,...   \n",
       "4  {'word': '민주당', 'start_idx': 3, 'end_idx': 5, ...   \n",
       "\n",
       "                                       object_entity  label     source  \n",
       "0  {'word': '탐사기획 스트레이트', 'start_idx': 12, 'end_i...    100   wikitree  \n",
       "1  {'word': '공주', 'start_idx': 84, 'end_idx': 85,...    100  wikipedia  \n",
       "2  {'word': '1995년', 'start_idx': 31, 'end_idx': ...    100  wikipedia  \n",
       "3  {'word': '정창손', 'start_idx': 0, 'end_idx': 2, ...    100  wikipedia  \n",
       "4  {'word': '권영진', 'start_idx': 16, 'end_idx': 18...    100   wikitree  "
      ]
     },
     "execution_count": 7,
     "metadata": {},
     "output_type": "execute_result"
    }
   ],
   "source": [
    "test.head()"
   ]
  },
  {
   "cell_type": "code",
   "execution_count": 10,
   "id": "1dcdcec8-4627-41ea-924a-6b6eb1f18132",
   "metadata": {},
   "outputs": [],
   "source": [
    "def explore(data, idx):\n",
    "    print(data['sentence'][idx])\n",
    "    print(data['subject_entity'][idx])\n",
    "    print(data['object_entity'][idx])\n",
    "    print(data['label'][idx])"
   ]
  },
  {
   "cell_type": "code",
   "execution_count": 11,
   "id": "d960064c-57ef-4157-b244-985b5efb4ed6",
   "metadata": {},
   "outputs": [
    {
     "name": "stdout",
     "output_type": "stream",
     "text": [
      "〈Something〉는 조지 해리슨이 쓰고 비틀즈가 1969년 앨범 《Abbey Road》에 담은 노래다.\n",
      "{'word': '비틀즈', 'start_idx': 24, 'end_idx': 26, 'type': 'ORG'}\n",
      "{'word': '조지 해리슨', 'start_idx': 13, 'end_idx': 18, 'type': 'PER'}\n",
      "no_relation\n"
     ]
    }
   ],
   "source": [
    "explore(train, 0)"
   ]
  },
  {
   "cell_type": "code",
   "execution_count": 13,
   "id": "a3bf4105-72f6-4bbe-8a70-4d557052a6bb",
   "metadata": {},
   "outputs": [
    {
     "name": "stdout",
     "output_type": "stream",
     "text": [
      "지난 15일 MBC '탐사기획 스트레이트'가 이 사실을 보도했다.\n",
      "{'word': 'MBC', 'start_idx': 7, 'end_idx': 9, 'type': 'ORG'}\n",
      "{'word': '탐사기획 스트레이트', 'start_idx': 12, 'end_idx': 21, 'type': 'ORG'}\n",
      "100\n"
     ]
    }
   ],
   "source": [
    "explore(test, 0)"
   ]
  },
  {
   "cell_type": "markdown",
   "id": "1e7c25cd-434c-4a9d-a95b-f7f91b8efebf",
   "metadata": {},
   "source": [
    "### pickle 파일 불러와 라벨 관찰"
   ]
  },
  {
   "cell_type": "code",
   "execution_count": 16,
   "id": "3f4f5dd6-aad7-47dc-96b8-fe1a33ffa52d",
   "metadata": {},
   "outputs": [
    {
     "data": {
      "text/plain": [
       "{'no_relation': 0,\n",
       " 'org:top_members/employees': 1,\n",
       " 'org:members': 2,\n",
       " 'org:product': 3,\n",
       " 'per:title': 4,\n",
       " 'org:alternate_names': 5,\n",
       " 'per:employee_of': 6,\n",
       " 'org:place_of_headquarters': 7,\n",
       " 'per:product': 8,\n",
       " 'org:number_of_employees/members': 9,\n",
       " 'per:children': 10,\n",
       " 'per:place_of_residence': 11,\n",
       " 'per:alternate_names': 12,\n",
       " 'per:other_family': 13,\n",
       " 'per:colleagues': 14,\n",
       " 'per:origin': 15,\n",
       " 'per:siblings': 16,\n",
       " 'per:spouse': 17,\n",
       " 'org:founded': 18,\n",
       " 'org:political/religious_affiliation': 19,\n",
       " 'org:member_of': 20,\n",
       " 'per:parents': 21,\n",
       " 'org:dissolved': 22,\n",
       " 'per:schools_attended': 23,\n",
       " 'per:date_of_death': 24,\n",
       " 'per:date_of_birth': 25,\n",
       " 'per:place_of_birth': 26,\n",
       " 'per:place_of_death': 27,\n",
       " 'org:founded_by': 28,\n",
       " 'per:religion': 29}"
      ]
     },
     "execution_count": 16,
     "metadata": {},
     "output_type": "execute_result"
    }
   ],
   "source": [
    "# pkl 파일은 이진수로 인코딩되어 있기때문에 'rb' (read-binary)로 읽어야함\n",
    "with open('dict_label_to_num.pkl', 'rb') as f:\n",
    "    dict_label_to_num = pickle.load(f)\n",
    "    \n",
    "dict_label_to_num"
   ]
  },
  {
   "cell_type": "markdown",
   "id": "40327fe5-74ad-4ec2-a419-86b5635756c2",
   "metadata": {},
   "source": [
    "### 라벨 숫자로 맵핑 & 라벨별 개수 파악"
   ]
  },
  {
   "cell_type": "code",
   "execution_count": 18,
   "id": "03d34813-d63c-4979-ae16-bb2f30ba7991",
   "metadata": {},
   "outputs": [],
   "source": [
    "train['label_to_num'] = [dict_label_to_num[l] for l in train.label]"
   ]
  },
  {
   "cell_type": "code",
   "execution_count": 19,
   "id": "d79a5438-1212-4049-939f-dcc28b40b3c0",
   "metadata": {},
   "outputs": [
    {
     "data": {
      "text/plain": [
       "0     9534\n",
       "1     4284\n",
       "2      420\n",
       "3      380\n",
       "4     2103\n",
       "5     1320\n",
       "6     3573\n",
       "7     1195\n",
       "8      139\n",
       "9       48\n",
       "10     304\n",
       "11     193\n",
       "12    1001\n",
       "13     190\n",
       "14     534\n",
       "15    1234\n",
       "16     136\n",
       "17     795\n",
       "18     450\n",
       "19      98\n",
       "20    1866\n",
       "21     520\n",
       "22      66\n",
       "23      82\n",
       "24     418\n",
       "25    1130\n",
       "26     166\n",
       "27      40\n",
       "28     155\n",
       "29      96\n",
       "Name: label_to_num, dtype: int64"
      ]
     },
     "execution_count": 19,
     "metadata": {},
     "output_type": "execute_result"
    }
   ],
   "source": [
    "train['label_to_num'].value_counts().sort_index()"
   ]
  },
  {
   "cell_type": "code",
   "execution_count": 20,
   "id": "2ea74473-881d-4981-8c77-7b8dbd97ed27",
   "metadata": {},
   "outputs": [
    {
     "data": {
      "text/plain": [
       "<AxesSubplot:xlabel='label_to_num', ylabel='count'>"
      ]
     },
     "execution_count": 20,
     "metadata": {},
     "output_type": "execute_result"
    },
    {
     "data": {
      "image/png": "[encoded data removed]",
      "text/plain": [
       "<Figure size 432x288 with 1 Axes>"
      ]
     },
     "metadata": {
      "needs_background": "light"
     },
     "output_type": "display_data"
    }
   ],
   "source": [
    "sns.countplot(data=train, x='label_to_num')"
   ]
  },
  {
   "cell_type": "markdown",
   "id": "83ca350f-5034-4cfc-be72-d6a66ae793a6",
   "metadata": {},
   "source": [
    "### 0번 라벨 제외하고 개수 파악"
   ]
  },
  {
   "cell_type": "code",
   "execution_count": 22,
   "id": "914f0a55-4731-47e0-a39b-8dbb596d0ef2",
   "metadata": {},
   "outputs": [
    {
     "data": {
      "text/plain": [
       "<AxesSubplot:xlabel='label_to_num', ylabel='count'>"
      ]
     },
     "execution_count": 22,
     "metadata": {},
     "output_type": "execute_result"
    },
    {
     "data": {
      "image/png": "[encoded data removed]",
      "text/plain": [
       "<Figure size 432x288 with 1 Axes>"
      ]
     },
     "metadata": {
      "needs_background": "light"
     },
     "output_type": "display_data"
    }
   ],
   "source": [
    "train_valid = train.loc[train.label != 'no_relation']\n",
    "sns.countplot(data=train_valid, x='label_to_num')"
   ]
  },
  {
   "cell_type": "code",
   "execution_count": 23,
   "id": "37e9241a-63bc-4c67-87d7-d3aede687103",
   "metadata": {},
   "outputs": [],
   "source": [
    "from transformers import AutoTokenizer\n",
    "from load_data import *"
   ]
  },
  {
   "cell_type": "code",
   "execution_count": 24,
   "id": "3b09ab3d-02b1-4245-aa85-8bff2d6c785a",
   "metadata": {},
   "outputs": [],
   "source": [
    "MODEL_NAME = \"klue/bert-base\"\n",
    "tokenizer = AutoTokenizer.from_pretrained(MODEL_NAME)"
   ]
  },
  {
   "cell_type": "code",
   "execution_count": 28,
   "id": "528394d6-2d2f-4d50-86f9-5940d6f099b6",
   "metadata": {},
   "outputs": [
    {
     "data": {
      "text/plain": [
       "<bound method BertTokenizerFast.__init__ of PreTrainedTokenizerFast(name_or_path='klue/bert-base', vocab_size=32000, model_max_len=512, is_fast=True, padding_side='right', special_tokens={'unk_token': '[UNK]', 'sep_token': '[SEP]', 'pad_token': '[PAD]', 'cls_token': '[CLS]', 'mask_token': '[MASK]'})>"
      ]
     },
     "execution_count": 28,
     "metadata": {},
     "output_type": "execute_result"
    }
   ],
   "source": [
    "tokenizer.__init__"
   ]
  },
  {
   "cell_type": "code",
   "execution_count": 32,
   "id": "3d44a129-118f-41a4-a9bd-42aae1c5c9c2",
   "metadata": {},
   "outputs": [],
   "source": [
    "tokenized_sentences = tokenizer(\n",
    "      # concat_entity,\n",
    "      list(train['sentence']),\n",
    "      return_tensors=\"pt\",\n",
    "      padding=True,\n",
    "      truncation=True,\n",
    "      max_length=256,\n",
    "      add_special_tokens=True,\n",
    "      )"
   ]
  },
  {
   "cell_type": "code",
   "execution_count": 42,
   "id": "62cb2329-8d59-4388-b824-b5ac44eca279",
   "metadata": {},
   "outputs": [
    {
     "data": {
      "text/plain": [
       "(transformers.tokenization_utils_base.BatchEncoding,\n",
       " Encoding(num_tokens=231, attributes=[ids, type_ids, tokens, offsets, attention_mask, special_tokens_mask, overflowing]))"
      ]
     },
     "execution_count": 42,
     "metadata": {},
     "output_type": "execute_result"
    }
   ],
   "source": [
    "type(tokenized_sentences), tokenized_sentences[0]"
   ]
  },
  {
   "cell_type": "code",
   "execution_count": 47,
   "id": "834f045b-72b4-42ee-a621-d6b60894143e",
   "metadata": {},
   "outputs": [
    {
     "ename": "TypeError",
     "evalue": "'method' object is not iterable",
     "output_type": "error",
     "traceback": [
      "\u001b[0;31m---------------------------------------------------------------------------\u001b[0m",
      "\u001b[0;31mTypeError\u001b[0m                                 Traceback (most recent call last)",
      "\u001b[0;32m<ipython-input-47-bfacacdaf153>\u001b[0m in \u001b[0;36m<module>\u001b[0;34m\u001b[0m\n\u001b[1;32m     66\u001b[0m \u001b[0;34m\u001b[0m\u001b[0m\n\u001b[1;32m     67\u001b[0m \u001b[0mcorpus\u001b[0m \u001b[0;34m=\u001b[0m \u001b[0mlist\u001b[0m\u001b[0;34m(\u001b[0m\u001b[0mtrain\u001b[0m\u001b[0;34m[\u001b[0m\u001b[0;34m'sentence'\u001b[0m\u001b[0;34m]\u001b[0m\u001b[0;34m)\u001b[0m\u001b[0;34m\u001b[0m\u001b[0;34m\u001b[0m\u001b[0m\n\u001b[0;32m---> 68\u001b[0;31m \u001b[0mmyFunction\u001b[0m\u001b[0;34m(\u001b[0m\u001b[0mcorpus\u001b[0m\u001b[0;34m)\u001b[0m\u001b[0;34m\u001b[0m\u001b[0;34m\u001b[0m\u001b[0m\n\u001b[0m",
      "\u001b[0;32m<ipython-input-47-bfacacdaf153>\u001b[0m in \u001b[0;36mmyFunction\u001b[0;34m(texts)\u001b[0m\n\u001b[1;32m     28\u001b[0m \u001b[0;34m\u001b[0m\u001b[0m\n\u001b[1;32m     29\u001b[0m         \u001b[0mwords\u001b[0m \u001b[0;34m=\u001b[0m \u001b[0mtokenizer\u001b[0m\u001b[0;34m(\u001b[0m\u001b[0mtext\u001b[0m\u001b[0;34m)\u001b[0m\u001b[0;34m.\u001b[0m\u001b[0mtokens\u001b[0m\u001b[0;34m\u001b[0m\u001b[0;34m\u001b[0m\u001b[0m\n\u001b[0;32m---> 30\u001b[0;31m         \u001b[0mword_list\u001b[0m\u001b[0;34m.\u001b[0m\u001b[0mextend\u001b[0m\u001b[0;34m(\u001b[0m\u001b[0mwords\u001b[0m\u001b[0;34m)\u001b[0m\u001b[0;34m\u001b[0m\u001b[0;34m\u001b[0m\u001b[0m\n\u001b[0m\u001b[1;32m     31\u001b[0m         \u001b[0mword_lens_per_sent\u001b[0m\u001b[0;34m.\u001b[0m\u001b[0mappend\u001b[0m\u001b[0;34m(\u001b[0m\u001b[0mlen\u001b[0m\u001b[0;34m(\u001b[0m\u001b[0mwords\u001b[0m\u001b[0;34m)\u001b[0m\u001b[0;34m)\u001b[0m\u001b[0;34m\u001b[0m\u001b[0;34m\u001b[0m\u001b[0m\n\u001b[1;32m     32\u001b[0m \u001b[0;34m\u001b[0m\u001b[0m\n",
      "\u001b[0;31mTypeError\u001b[0m: 'method' object is not iterable"
     ]
    }
   ],
   "source": [
    "# wp_tokenizer = BertWordPieceTokenizer(\n",
    "#     clean_text=True,    # [이순신, ##은, ' ', 조선]\n",
    "#     handle_chinese_chars=True,\n",
    "#     strip_accents=False,    # True: [YepHamza] -> [Yep, Hamza]\n",
    "#     lowercase=False,\n",
    "# )\n",
    "# # And then train\n",
    "# wp_tokenizer.train(\n",
    "#     files=\"my_data/wiki_20190620_small.txt\",\n",
    "#     vocab_size=10000,\n",
    "#     min_frequency=2,\n",
    "#     show_progress=True,\n",
    "#     special_tokens=[\"[PAD]\", \"[UNK]\", \"[CLS]\", \"[SEP]\", \"[MASK]\"],\n",
    "#     limit_alphabet=1000,\n",
    "#     wordpieces_prefix=\"##\"\n",
    "# )\n",
    "# # Save the files\n",
    "# wp_tokenizer.save_model(\"wordPieceTokenizer\", \"my_tokenizer\")\n",
    "\n",
    "def myFunction(texts) : \n",
    "    texts_lens = []\n",
    "    word_list = []\n",
    "    word_lens_per_sent = []\n",
    "    \n",
    "    # 문장의 길이를 저장 및 Wordpiece 단위로 토큰화\n",
    "    for text in texts : \n",
    "        texts_lens.append(len(text))\n",
    "      \n",
    "        words = tokenizer(text).tokens\n",
    "        word_list.extend(words)\n",
    "        word_lens_per_sent.append(len(words))\n",
    "    \n",
    "    # 문장에 포함된 단어들 카운트\n",
    "    counter = Counter(word_list)\n",
    "    \n",
    "    # 가장 많이 나온 단어 10개\n",
    "    word_list = counter.most_common(n=10)\n",
    "\n",
    "    # 빈도는 지우고 단어만, 순서대로 저장\n",
    "    word_list = [word[0] for word in word_list]\n",
    "\n",
    "    #TODO. 아래와 같은 두 개의 그래프를 그려 출력해봅시다.\n",
    "    \"\"\"\n",
    "    1. X축에는 코퍼스 내 단어들을 출현 빈도 순으로 정렬하고, Y축은 각 단어들의 출현 빈도를 log-scale로 나타내는 그래프\n",
    "    2. 코퍼스 내의 각 문장들의 단어 개수에 대한 히스토그램\n",
    "    \"\"\"\n",
    "    # 등장 빈도순으로 단어를 정렬하여 시각화\n",
    "    sorted_words = sorted(counter.items(), key=lambda item: (-item[1], item[0]))\n",
    "    sorted_frequency_logscale = [np.log10(el[1]) for el in sorted_words]\n",
    "    indices = np.arange(len(sorted_frequency_logscale))\n",
    "    plt.plot(indices, sorted_frequency_logscale)\n",
    "    plt.ylabel('log10(frequency)', fontsize=16)\n",
    "    plt.show()\n",
    "    \n",
    "    # 문장 단어 개수에 대한 히스토그램 시각화\n",
    "    plt.hist(word_lens_per_sent, bins=20)\n",
    "    plt.xlabel(\"# of words\")\n",
    "\n",
    "    return {\"texts\" : len(texts),\n",
    "            \"num_unique_words\":len(counter),\n",
    "            \"maximum\" : np.max(texts_lens), \"minumum\" : np.min(texts_lens),\n",
    "            \"mean\" : np.mean(texts_lens), \"median\" : np.median(texts_lens),\n",
    "            \"word_maximum\" : np.max(word_lens_per_sent), \"word_minumum\" : np.min(word_lens_per_sent),\n",
    "            \"word_mean\" : np.mean(word_lens_per_sent), \"word_median\" : np.median(word_lens_per_sent),\n",
    "            \"TOP10_word\":word_list[:10]}\n",
    "\n",
    "corpus = list(train['sentence'])\n",
    "myFunction(corpus)"
   ]
  },
  {
   "cell_type": "code",
   "execution_count": 50,
   "id": "83d5475a-678f-447d-874d-6878fabc2ae6",
   "metadata": {},
   "outputs": [
    {
     "data": {
      "text/plain": [
       "{'input_ids': [2, 168, 30985, 14451, 7088, 4586, 169, 793, 8373, 14113, 2234, 2052, 1363, 2088, 29830, 2116, 14879, 2440, 6711, 170, 21406, 26713, 2076, 25145, 5749, 171, 1421, 818, 2073, 4388, 2062, 18, 3], 'token_type_ids': [0, 0, 0, 0, 0, 0, 0, 0, 0, 0, 0, 0, 0, 0, 0, 0, 0, 0, 0, 0, 0, 0, 0, 0, 0, 0, 0, 0, 0, 0, 0, 0, 0], 'attention_mask': [1, 1, 1, 1, 1, 1, 1, 1, 1, 1, 1, 1, 1, 1, 1, 1, 1, 1, 1, 1, 1, 1, 1, 1, 1, 1, 1, 1, 1, 1, 1, 1, 1]}"
      ]
     },
     "execution_count": 50,
     "metadata": {},
     "output_type": "execute_result"
    }
   ],
   "source": [
    "tokenizer(corpus[0])"
   ]
  },
  {
   "cell_type": "code",
   "execution_count": 51,
   "id": "9bffe3c4-12ee-4def-adf1-26b4bf4ac3bc",
   "metadata": {},
   "outputs": [
    {
     "data": {
      "text/plain": [
       "PreTrainedTokenizerFast(name_or_path='klue/bert-base', vocab_size=32000, model_max_len=512, is_fast=True, padding_side='right', special_tokens={'unk_token': '[UNK]', 'sep_token': '[SEP]', 'pad_token': '[PAD]', 'cls_token': '[CLS]', 'mask_token': '[MASK]'})"
      ]
     },
     "execution_count": 51,
     "metadata": {},
     "output_type": "execute_result"
    }
   ],
   "source": [
    "tokenizer"
   ]
  },
  {
   "cell_type": "code",
   "execution_count": null,
   "id": "c9d9192c-d105-4542-87d8-f0984e634964",
   "metadata": {},
   "outputs": [],
   "source": []
  }
 ],
 "metadata": {
  "kernelspec": {
   "display_name": "Python 3 (ipykernel)",
   "language": "python",
   "name": "python3"
  },
  "language_info": {
   "codemirror_mode": {
    "name": "ipython",
    "version": 3
   },
   "file_extension": ".py",
   "mimetype": "text/x-python",
   "name": "python",
   "nbconvert_exporter": "python",
   "pygments_lexer": "ipython3",
   "version": "3.8.5"
  }
 },
 "nbformat": 4,
 "nbformat_minor": 5
}
