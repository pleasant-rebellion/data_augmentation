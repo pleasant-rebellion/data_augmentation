{
 "cells": [
  {
   "cell_type": "code",
   "execution_count": 1,
   "id": "d3931e04-b215-4d67-a36b-a4c6b4c33674",
   "metadata": {},
   "outputs": [],
   "source": [
    "from load_data import *\n",
    "import pandas as pd\n",
    "import numpy as np\n",
    "\n",
    "from transformers import AutoTokenizer\n",
    "\n",
    "import pickle"
   ]
  },
  {
   "cell_type": "code",
   "execution_count": 2,
   "id": "c804e22a-86b2-49bb-bc0b-bd02ecfdf409",
   "metadata": {},
   "outputs": [],
   "source": [
    "def label_to_num(label):\n",
    "  num_label = []\n",
    "  with open('dict_label_to_num.pkl', 'rb') as f:\n",
    "    dict_label_to_num = pickle.load(f)\n",
    "  for v in label:\n",
    "    num_label.append(dict_label_to_num[v])\n",
    "  \n",
    "  return num_label"
   ]
  },
  {
   "cell_type": "markdown",
   "id": "77002c7b-c453-4446-9b6a-7480ced663f2",
   "metadata": {},
   "source": [
    "### tokenizer 받아와서 기본 셋팅"
   ]
  },
  {
   "cell_type": "code",
   "execution_count": 3,
   "id": "3e701006-39b7-4256-9bbd-768b1c92a49c",
   "metadata": {},
   "outputs": [],
   "source": [
    "MODEL_NAME = \"klue/bert-base\"\n",
    "tokenizer = AutoTokenizer.from_pretrained(MODEL_NAME)"
   ]
  },
  {
   "cell_type": "code",
   "execution_count": 4,
   "id": "35651b9d-fb11-4f9d-84a7-f46b67de345b",
   "metadata": {
    "tags": []
   },
   "outputs": [
    {
     "data": {
      "text/html": [
       "<div>\n",
       "<style scoped>\n",
       "    .dataframe tbody tr th:only-of-type {\n",
       "        vertical-align: middle;\n",
       "    }\n",
       "\n",
       "    .dataframe tbody tr th {\n",
       "        vertical-align: top;\n",
       "    }\n",
       "\n",
       "    .dataframe thead th {\n",
       "        text-align: right;\n",
       "    }\n",
       "</style>\n",
       "<table border=\"1\" class=\"dataframe\">\n",
       "  <thead>\n",
       "    <tr style=\"text-align: right;\">\n",
       "      <th></th>\n",
       "      <th>id</th>\n",
       "      <th>sentence</th>\n",
       "      <th>subject_entity</th>\n",
       "      <th>object_entity</th>\n",
       "      <th>label</th>\n",
       "    </tr>\n",
       "  </thead>\n",
       "  <tbody>\n",
       "    <tr>\n",
       "      <th>0</th>\n",
       "      <td>0</td>\n",
       "      <td>〈Something〉는 조지 해리슨이 쓰고 비틀즈가 1969년 앨범 《Abbey R...</td>\n",
       "      <td>'비틀즈'</td>\n",
       "      <td>'조지 해리슨'</td>\n",
       "      <td>no_relation</td>\n",
       "    </tr>\n",
       "    <tr>\n",
       "      <th>1</th>\n",
       "      <td>1</td>\n",
       "      <td>호남이 기반인 바른미래당·대안신당·민주평화당이 우여곡절 끝에 합당해 민생당(가칭)으...</td>\n",
       "      <td>'민주평화당'</td>\n",
       "      <td>'대안신당'</td>\n",
       "      <td>no_relation</td>\n",
       "    </tr>\n",
       "    <tr>\n",
       "      <th>2</th>\n",
       "      <td>2</td>\n",
       "      <td>K리그2에서 성적 1위를 달리고 있는 광주FC는 지난 26일 한국프로축구연맹으로부터...</td>\n",
       "      <td>'광주FC'</td>\n",
       "      <td>'한국프로축구연맹'</td>\n",
       "      <td>org:member_of</td>\n",
       "    </tr>\n",
       "    <tr>\n",
       "      <th>3</th>\n",
       "      <td>3</td>\n",
       "      <td>균일가 생활용품점 (주)아성다이소(대표 박정부)는 코로나19 바이러스로 어려움을 겪...</td>\n",
       "      <td>'아성다이소'</td>\n",
       "      <td>'박정부'</td>\n",
       "      <td>org:top_members/employees</td>\n",
       "    </tr>\n",
       "    <tr>\n",
       "      <th>4</th>\n",
       "      <td>4</td>\n",
       "      <td>1967년 프로 야구 드래프트 1순위로 요미우리 자이언츠에게 입단하면서 등번호는 8...</td>\n",
       "      <td>'요미우리 자이언츠'</td>\n",
       "      <td>'1967'</td>\n",
       "      <td>no_relation</td>\n",
       "    </tr>\n",
       "  </tbody>\n",
       "</table>\n",
       "</div>"
      ],
      "text/plain": [
       "   id                                           sentence subject_entity  \\\n",
       "0   0  〈Something〉는 조지 해리슨이 쓰고 비틀즈가 1969년 앨범 《Abbey R...          '비틀즈'   \n",
       "1   1  호남이 기반인 바른미래당·대안신당·민주평화당이 우여곡절 끝에 합당해 민생당(가칭)으...        '민주평화당'   \n",
       "2   2  K리그2에서 성적 1위를 달리고 있는 광주FC는 지난 26일 한국프로축구연맹으로부터...         '광주FC'   \n",
       "3   3  균일가 생활용품점 (주)아성다이소(대표 박정부)는 코로나19 바이러스로 어려움을 겪...        '아성다이소'   \n",
       "4   4  1967년 프로 야구 드래프트 1순위로 요미우리 자이언츠에게 입단하면서 등번호는 8...    '요미우리 자이언츠'   \n",
       "\n",
       "  object_entity                      label  \n",
       "0      '조지 해리슨'                no_relation  \n",
       "1        '대안신당'                no_relation  \n",
       "2    '한국프로축구연맹'              org:member_of  \n",
       "3         '박정부'  org:top_members/employees  \n",
       "4        '1967'                no_relation  "
      ]
     },
     "execution_count": 4,
     "metadata": {},
     "output_type": "execute_result"
    }
   ],
   "source": [
    "# load_data.py 파일 함수들을 이용해 pandas DataFrame으로 만들고 간단한 전처리만 진행된 결과\n",
    "train_dataset = load_data(\"../dataset/train/train.csv\")\n",
    "train_dataset.head()"
   ]
  },
  {
   "cell_type": "code",
   "execution_count": 5,
   "id": "c6aaffed-4757-47e8-a351-60e1f7e50471",
   "metadata": {},
   "outputs": [
    {
     "data": {
      "text/plain": [
       "[0, 0, 20, 1, 0, 5, 0, 25, 7, 6]"
      ]
     },
     "execution_count": 5,
     "metadata": {},
     "output_type": "execute_result"
    }
   ],
   "source": [
    "train_label = label_to_num(train_dataset['label'].values)\n",
    "train_label[:10]"
   ]
  },
  {
   "cell_type": "markdown",
   "id": "6a6b9014-a9ce-4b88-a507-98c887d6248e",
   "metadata": {},
   "source": [
    "### cleaned_text 컬럼 별도 생성"
   ]
  },
  {
   "cell_type": "code",
   "execution_count": 6,
   "id": "048ad058-a799-4d22-aad7-e597c9eca638",
   "metadata": {},
   "outputs": [],
   "source": [
    "# uni-code 에 맞게 punctuation mapping 하는 함수\n",
    "def clean_punc(text):\n",
    "    punct_mapping = {'ʿ': '', 'ū': 'u', 'è': 'e', 'ȳ': 'y', 'ồ': 'o', 'ề': 'e', 'â': 'a', 'æ': 'ae', 'ő': 'o', 'ῶ': 'ω', '𑀕': 'Λ', 'ß': 'β', 'ヶ': 'ケ', '‘': \"'\", '₹': 'e', '´': \"'\", '°': '', '€': 'e', '™': 'tm', '√': ' sqrt ', '×': 'x', '²': '2', '—': '-', '–': '-', '’': \"'\", '_': '-', '`': \"'\", '“': '\"', '”': '\"', '£': 'e', '∞': 'infinity', '÷': '/', '•': '.', 'à': 'a', '−': '-', 'Ῥ': 'Ρ', 'ầ': 'a', '́': \"'\", 'ò': 'o', 'Ö': 'O', 'Š': 'S', 'ệ': 'e', 'Ś': 'S', 'ē': 'e', 'ä': 'a', 'ć': 'c', 'ë': 'e', 'å': 'a', 'Ǧ': 'G', 'ạ': 'a', 'ņ': 'n', 'İ': 'I', 'ğ': 'g', 'ê': 'e', 'Č': 'C', 'ã': 'a', 'ḥ': 'h', 'ả': 'a', 'ễ': 'e', '％': '%', 'ợ': 'o', 'Ú': 'U', 'ư': 'u', 'Ž': 'Z', 'ú': 'u', 'É': 'E', 'Ó': 'O', 'ü': 'u', 'é': 'e', 'ā': 'a', 'š': 's', '𑀥': 'D', 'í': 'i', 'û': 'u', 'ý': 'y', 'ī': 'i', 'ï': 'i', 'ộ': 'o', 'ì': 'i', 'ọ': 'o', 'ş': 's', 'ó': 'o', 'ñ': 'n', 'ậ': 'a', 'Â': 'A', 'ù': 'u', 'ô': 'o', 'ố': 'o', 'Á': 'A', 'ö': 'o', 'ơ': 'o', 'ç': 'c', 'ˈ': \"'\", 'µ': 'μ', '／': '/', '（': '(', 'ｍ': 'm', '˘': ' ', '𑀫': 'ma', '？': '?', 'ł': 'l', 'Đ': 'D', '：': ':', '･': ',', 'Ç': 'C', 'ı': 'i', '，': ',', '𥘺': '祉', '·': ',', '＇': \"'\", ' ': ' ', '）': ')', '１': '1', 'ø': 'o', '～': '~', '³': '3', '(˘ ³˘)': '', '˹': '\"', '｢': '\"', '｣': '\"', '«': '<<', '˼': '\"', '»': '>>', '®': 'R'}\n",
    "\n",
    "    for p in punct_mapping:\n",
    "        text=re.sub(p, punct_mapping[p],text)\n",
    "        text = re.sub('[-=+,#/\\?:^$.@*\\\"※~&%ㆍ!』\\\\‘|\\[\\]\\<\\>`\\'…《》▲△]', ' ', text)\n",
    "    return text"
   ]
  },
  {
   "cell_type": "code",
   "execution_count": 7,
   "id": "4f08c17a-69b3-4986-8e87-a03b4d13af39",
   "metadata": {},
   "outputs": [
    {
     "data": {
      "text/html": [
       "<div>\n",
       "<style scoped>\n",
       "    .dataframe tbody tr th:only-of-type {\n",
       "        vertical-align: middle;\n",
       "    }\n",
       "\n",
       "    .dataframe tbody tr th {\n",
       "        vertical-align: top;\n",
       "    }\n",
       "\n",
       "    .dataframe thead th {\n",
       "        text-align: right;\n",
       "    }\n",
       "</style>\n",
       "<table border=\"1\" class=\"dataframe\">\n",
       "  <thead>\n",
       "    <tr style=\"text-align: right;\">\n",
       "      <th></th>\n",
       "      <th>id</th>\n",
       "      <th>sentence</th>\n",
       "      <th>subject_entity</th>\n",
       "      <th>object_entity</th>\n",
       "      <th>label</th>\n",
       "      <th>cleaned_sent</th>\n",
       "    </tr>\n",
       "  </thead>\n",
       "  <tbody>\n",
       "    <tr>\n",
       "      <th>0</th>\n",
       "      <td>0</td>\n",
       "      <td>〈Something〉는 조지 해리슨이 쓰고 비틀즈가 1969년 앨범 《Abbey R...</td>\n",
       "      <td>'비틀즈'</td>\n",
       "      <td>'조지 해리슨'</td>\n",
       "      <td>no_relation</td>\n",
       "      <td>〈Something〉는 조지 해리슨이 쓰고 비틀즈가 1969년 앨범  Abbey R...</td>\n",
       "    </tr>\n",
       "    <tr>\n",
       "      <th>1</th>\n",
       "      <td>1</td>\n",
       "      <td>호남이 기반인 바른미래당·대안신당·민주평화당이 우여곡절 끝에 합당해 민생당(가칭)으...</td>\n",
       "      <td>'민주평화당'</td>\n",
       "      <td>'대안신당'</td>\n",
       "      <td>no_relation</td>\n",
       "      <td>호남이 기반인 바른미래당 대안신당 민주평화당이 우여곡절 끝에 합당해 민생당(가칭)으...</td>\n",
       "    </tr>\n",
       "    <tr>\n",
       "      <th>2</th>\n",
       "      <td>2</td>\n",
       "      <td>K리그2에서 성적 1위를 달리고 있는 광주FC는 지난 26일 한국프로축구연맹으로부터...</td>\n",
       "      <td>'광주FC'</td>\n",
       "      <td>'한국프로축구연맹'</td>\n",
       "      <td>org:member_of</td>\n",
       "      <td>K리그2에서 성적 1위를 달리고 있는 광주FC는 지난 26일 한국프로축구연맹으로부터...</td>\n",
       "    </tr>\n",
       "    <tr>\n",
       "      <th>3</th>\n",
       "      <td>3</td>\n",
       "      <td>균일가 생활용품점 (주)아성다이소(대표 박정부)는 코로나19 바이러스로 어려움을 겪...</td>\n",
       "      <td>'아성다이소'</td>\n",
       "      <td>'박정부'</td>\n",
       "      <td>org:top_members/employees</td>\n",
       "      <td>균일가 생활용품점 (주)아성다이소(대표 박정부)는 코로나19 바이러스로 어려움을 겪...</td>\n",
       "    </tr>\n",
       "    <tr>\n",
       "      <th>4</th>\n",
       "      <td>4</td>\n",
       "      <td>1967년 프로 야구 드래프트 1순위로 요미우리 자이언츠에게 입단하면서 등번호는 8...</td>\n",
       "      <td>'요미우리 자이언츠'</td>\n",
       "      <td>'1967'</td>\n",
       "      <td>no_relation</td>\n",
       "      <td>1967년 프로 야구 드래프트 1순위로 요미우리 자이언츠에게 입단하면서 등번호는 8...</td>\n",
       "    </tr>\n",
       "  </tbody>\n",
       "</table>\n",
       "</div>"
      ],
      "text/plain": [
       "   id                                           sentence subject_entity  \\\n",
       "0   0  〈Something〉는 조지 해리슨이 쓰고 비틀즈가 1969년 앨범 《Abbey R...          '비틀즈'   \n",
       "1   1  호남이 기반인 바른미래당·대안신당·민주평화당이 우여곡절 끝에 합당해 민생당(가칭)으...        '민주평화당'   \n",
       "2   2  K리그2에서 성적 1위를 달리고 있는 광주FC는 지난 26일 한국프로축구연맹으로부터...         '광주FC'   \n",
       "3   3  균일가 생활용품점 (주)아성다이소(대표 박정부)는 코로나19 바이러스로 어려움을 겪...        '아성다이소'   \n",
       "4   4  1967년 프로 야구 드래프트 1순위로 요미우리 자이언츠에게 입단하면서 등번호는 8...    '요미우리 자이언츠'   \n",
       "\n",
       "  object_entity                      label  \\\n",
       "0      '조지 해리슨'                no_relation   \n",
       "1        '대안신당'                no_relation   \n",
       "2    '한국프로축구연맹'              org:member_of   \n",
       "3         '박정부'  org:top_members/employees   \n",
       "4        '1967'                no_relation   \n",
       "\n",
       "                                        cleaned_sent  \n",
       "0  〈Something〉는 조지 해리슨이 쓰고 비틀즈가 1969년 앨범  Abbey R...  \n",
       "1  호남이 기반인 바른미래당 대안신당 민주평화당이 우여곡절 끝에 합당해 민생당(가칭)으...  \n",
       "2  K리그2에서 성적 1위를 달리고 있는 광주FC는 지난 26일 한국프로축구연맹으로부터...  \n",
       "3  균일가 생활용품점 (주)아성다이소(대표 박정부)는 코로나19 바이러스로 어려움을 겪...  \n",
       "4  1967년 프로 야구 드래프트 1순위로 요미우리 자이언츠에게 입단하면서 등번호는 8...  "
      ]
     },
     "execution_count": 7,
     "metadata": {},
     "output_type": "execute_result"
    }
   ],
   "source": [
    "train_dataset['cleaned_sent'] = [clean_punc(sent) for sent in train_dataset.sentence]\n",
    "train_dataset.head()"
   ]
  },
  {
   "cell_type": "markdown",
   "id": "6a77c18c-ea6e-430d-8cec-6555ed2a5602",
   "metadata": {},
   "source": [
    "### tokenizer 관찰"
   ]
  },
  {
   "cell_type": "code",
   "execution_count": 8,
   "id": "6869eba0-ae17-46a6-b7bd-6338267a721a",
   "metadata": {},
   "outputs": [
    {
     "data": {
      "text/plain": [
       "PreTrainedTokenizerFast(name_or_path='klue/bert-base', vocab_size=32000, model_max_len=512, is_fast=True, padding_side='right', special_tokens={'unk_token': '[UNK]', 'sep_token': '[SEP]', 'pad_token': '[PAD]', 'cls_token': '[CLS]', 'mask_token': '[MASK]'})"
      ]
     },
     "execution_count": 8,
     "metadata": {},
     "output_type": "execute_result"
    }
   ],
   "source": [
    "tokenizer"
   ]
  },
  {
   "cell_type": "code",
   "execution_count": 9,
   "id": "6a3a23f8-c4d2-49b6-b004-9ad45aaf64e5",
   "metadata": {},
   "outputs": [
    {
     "name": "stdout",
     "output_type": "stream",
     "text": [
      "['SPECIAL_TOKENS_ATTRIBUTES', '__annotations__', '__call__', '__class__', '__delattr__', '__dict__', '__dir__', '__doc__', '__eq__', '__format__', '__ge__', '__getattribute__', '__gt__', '__hash__', '__init__', '__init_subclass__', '__le__', '__len__', '__lt__', '__module__', '__ne__', '__new__', '__reduce__', '__reduce_ex__', '__repr__', '__setattr__', '__sizeof__', '__str__', '__subclasshook__', '__weakref__', '_add_tokens', '_additional_special_tokens', '_batch_encode_plus', '_bos_token', '_cls_token', '_convert_encoding', '_convert_id_to_token', '_convert_token_to_id_with_added_voc', '_create_or_get_repo', '_decode', '_decode_use_source_tokenizer', '_encode_plus', '_eos_token', '_eventual_warn_about_too_long_sequence', '_from_pretrained', '_get_padding_truncation_strategies', '_get_repo_url_from_name', '_mask_token', '_pad', '_pad_token', '_pad_token_type_id', '_push_to_hub', '_save_pretrained', '_sep_token', '_tokenizer', '_unk_token', 'add_special_tokens', 'add_tokens', 'additional_special_tokens', 'additional_special_tokens_ids', 'all_special_ids', 'all_special_tokens', 'all_special_tokens_extended', 'as_target_tokenizer', 'backend_tokenizer', 'batch_decode', 'batch_encode_plus', 'bos_token', 'bos_token_id', 'build_inputs_with_special_tokens', 'clean_up_tokenization', 'cls_token', 'cls_token_id', 'convert_ids_to_tokens', 'convert_tokens_to_ids', 'convert_tokens_to_string', 'create_token_type_ids_from_sequences', 'decode', 'decoder', 'deprecation_warnings', 'do_lower_case', 'encode', 'encode_plus', 'eos_token', 'eos_token_id', 'from_pretrained', 'get_added_vocab', 'get_special_tokens_mask', 'get_vocab', 'init_inputs', 'init_kwargs', 'is_fast', 'mask_token', 'mask_token_id', 'max_len_sentences_pair', 'max_len_single_sentence', 'max_model_input_sizes', 'model_input_names', 'model_max_length', 'name_or_path', 'num_special_tokens_to_add', 'pad', 'pad_token', 'pad_token_id', 'pad_token_type_id', 'padding_side', 'prepare_for_model', 'prepare_seq2seq_batch', 'pretrained_init_configuration', 'pretrained_vocab_files_map', 'push_to_hub', 'sanitize_special_tokens', 'save_pretrained', 'save_vocabulary', 'sep_token', 'sep_token_id', 'set_truncation_and_padding', 'slow_tokenizer_class', 'special_tokens_map', 'special_tokens_map_extended', 'tokenize', 'train_new_from_iterator', 'truncate_sequences', 'unk_token', 'unk_token_id', 'verbose', 'vocab', 'vocab_files_names', 'vocab_size']\n"
     ]
    }
   ],
   "source": [
    "print(dir(tokenizer))"
   ]
  },
  {
   "cell_type": "code",
   "execution_count": 39,
   "id": "67875ccf-a71e-45db-a7f0-5f9493207abd",
   "metadata": {},
   "outputs": [
    {
     "data": {
      "text/plain": [
       "32000"
      ]
     },
     "execution_count": 39,
     "metadata": {},
     "output_type": "execute_result"
    }
   ],
   "source": [
    "tokenizer.vocab_size"
   ]
  },
  {
   "cell_type": "code",
   "execution_count": 10,
   "id": "a32bd891-b2aa-48eb-8738-6d5ce2439231",
   "metadata": {},
   "outputs": [
    {
     "name": "stdout",
     "output_type": "stream",
     "text": [
      "---------- tokenizer(text) 결과 ----------\n",
      "{'input_ids': [2, 4748, 2266, 14486, 2155, 2179, 804, 2255, 1160, 2051, 2522, 8702, 2445, 4899, 2146, 21857, 2259, 17284, 2155, 2116, 5597, 2878, 2069, 3896, 2205, 2259, 1898, 2155, 2079, 3951, 2052, 2307, 5862, 2155, 17, 4299, 2079, 4450, 2125, 5230, 2333, 2048, 2170, 8428, 2205, 2118, 1380, 2259, 4683, 6483, 2205, 2507, 2062, 18, 3], 'token_type_ids': [0, 0, 0, 0, 0, 0, 0, 0, 0, 0, 0, 0, 0, 0, 0, 0, 0, 0, 0, 0, 0, 0, 0, 0, 0, 0, 0, 0, 0, 0, 0, 0, 0, 0, 0, 0, 0, 0, 0, 0, 0, 0, 0, 0, 0, 0, 0, 0, 0, 0, 0, 0, 0, 0, 0], 'attention_mask': [1, 1, 1, 1, 1, 1, 1, 1, 1, 1, 1, 1, 1, 1, 1, 1, 1, 1, 1, 1, 1, 1, 1, 1, 1, 1, 1, 1, 1, 1, 1, 1, 1, 1, 1, 1, 1, 1, 1, 1, 1, 1, 1, 1, 1, 1, 1, 1, 1, 1, 1, 1, 1, 1, 1]}\n",
      "---------- tokenizer.tokenize(text) 결과 ----------\n",
      "['이론', '##물', '##리학', '##자', '##인', '닐', '##스', '보', '##어', '##와', '베르', '##너', '하이', '##젠', '##베르크', '##는', '중성', '##자', '##가', '원자', '##핵', '##을', '구성', '##하', '##는', '핵', '##자', '##의', '일부', '##이', '##며', '양성', '##자', '-', '전자', '##의', '전기', '##적', '상호', '##작', '##용', '##에', '관여', '##하', '##지', '않', '##는', '##다고', '확신', '##하', '##였', '##다', '.']\n",
      "---------- tokenizer.encode(text) 결과 ----------\n",
      "[2, 4748, 2266, 14486, 2155, 2179, 804, 2255, 1160, 2051, 2522, 8702, 2445, 4899, 2146, 21857, 2259, 17284, 2155, 2116, 5597, 2878, 2069, 3896, 2205, 2259, 1898, 2155, 2079, 3951, 2052, 2307, 5862, 2155, 17, 4299, 2079, 4450, 2125, 5230, 2333, 2048, 2170, 8428, 2205, 2118, 1380, 2259, 4683, 6483, 2205, 2507, 2062, 18, 3]\n",
      "---------- tokenizer(encoded_text) 결과 ----------\n",
      "[CLS] 이론물리학자인 닐스 보어와 베르너 하이젠베르크는 중성자가 원자핵을 구성하는 핵자의 일부이며 양성자 - 전자의 전기적 상호작용에 관여하지 않는다고 확신하였다. [SEP]\n"
     ]
    }
   ],
   "source": [
    "IDX = 1000\n",
    "input_sent = train_dataset['sentence'][IDX]\n",
    "enc_sent = tokenizer.encode(input_sent)\n",
    "print('-'*10 + ' tokenizer(text) 결과 ' + '-'*10)\n",
    "print(tokenizer(input_sent))\n",
    "print('-'*10 + ' tokenizer.tokenize(text) 결과 ' + '-'*10)\n",
    "print(tokenizer.tokenize(input_sent))\n",
    "print('-'*10 + ' tokenizer.encode(text) 결과 ' + '-'*10)\n",
    "print(enc_sent)\n",
    "# tokenizer.encode(text) == tokenizer(text).input_ids\n",
    "print('-'*10 + ' tokenizer(encoded_text) 결과 ' + '-'*10)\n",
    "print(tokenizer.decode(enc_sent))"
   ]
  },
  {
   "cell_type": "markdown",
   "id": "afc924e3-93a0-4761-82ef-c2cd7eefabe0",
   "metadata": {},
   "source": [
    "### train data 약 3만개의 모든 문장 토큰화해서 토큰별 개수 카운팅"
   ]
  },
  {
   "cell_type": "code",
   "execution_count": 11,
   "id": "4e296190-1bd2-4ae5-8e6d-b74f497ee88e",
   "metadata": {},
   "outputs": [],
   "source": [
    "def total_tokens(sentences):\n",
    "    token_counter = {}\n",
    "    for sent in sentences:\n",
    "        tokens = tokenizer.tokenize(sent)\n",
    "        for token in tokens:\n",
    "            try:\n",
    "                token_counter[token] += 1\n",
    "            except:\n",
    "                token_counter[token] = 1\n",
    "    return sorted(token_counter.items(), key=lambda x: x[1], reverse=True)"
   ]
  },
  {
   "cell_type": "code",
   "execution_count": 12,
   "id": "d1f1828a-719a-4080-92da-f1a733251af8",
   "metadata": {},
   "outputs": [],
   "source": [
    "raw_counter = total_tokens(train_dataset['sentence'])"
   ]
  },
  {
   "cell_type": "code",
   "execution_count": 13,
   "id": "130847ab-a7ab-4238-96e3-03edca4b818c",
   "metadata": {},
   "outputs": [
    {
     "data": {
      "text/plain": [
       "[(',', 37642),\n",
       " ('.', 36210),\n",
       " ('##의', 34920),\n",
       " ('##다', 29480),\n",
       " ('##을', 29307),\n",
       " ('##에', 25994),\n",
       " ('##는', 24825),\n",
       " ('##년', 20918),\n",
       " ('(', 19211),\n",
       " (')', 19190)]"
      ]
     },
     "execution_count": 13,
     "metadata": {},
     "output_type": "execute_result"
    }
   ],
   "source": [
    "raw_counter[:10]\n",
    "# [UNK] 개수가 6313"
   ]
  },
  {
   "cell_type": "code",
   "execution_count": 14,
   "id": "4b60e7f6-d54a-4239-bcd8-e2636139ad13",
   "metadata": {},
   "outputs": [],
   "source": [
    "cleaned_counter = total_tokens(train_dataset['sentence'])"
   ]
  },
  {
   "cell_type": "code",
   "execution_count": 34,
   "id": "1abd6a8c-d30c-4d5c-ae8a-f55693c49b0f",
   "metadata": {},
   "outputs": [
    {
     "data": {
      "text/plain": [
       "1654626"
      ]
     },
     "execution_count": 34,
     "metadata": {},
     "output_type": "execute_result"
    }
   ],
   "source": [
    "sum([value for key, value in cleaned_counter])"
   ]
  },
  {
   "cell_type": "code",
   "execution_count": 38,
   "id": "dcb6aa5c-ac5a-4456-b92c-4330d39919d8",
   "metadata": {},
   "outputs": [
    {
     "name": "stdout",
     "output_type": "stream",
     "text": [
      "[('31', 355), ('##피', 355), ('성공', 354), ('체결', 353), ('##익', 352), ('챔피언', 350), ('##메', 350), ('##품', 349), ('[', 349), ('간', 348), ('##빈', 348), ('공화국', 347), ('으로', 346), ('최', 346), ('황제', 346), ('기업', 345), ('올해', 345), ('##K', 345), ('##S', 345), ('##령', 345), ('##임', 344), ('된', 344), ('총선', 344), ('##m', 344), (']', 344), ('S', 343), ('##발전', 342), ('행사', 342), ('자리', 341), ('##슈', 341), ('2015', 341), ('위원장', 340), ('여자', 339), ('약', 338), ('야구', 337), ('##사회', 337), ('##란', 336), ('노', 335), ('##안전', 335), ('호', 335), ('나', 335), ('##e', 334), ('##버', 333), ('임명', 333), ('상황', 332), ('우리', 331), ('H', 331), ('미', 331), ('##정보', 331), ('중심', 331), ('투수', 330), ('이사장', 330), ('##지원', 330), ('##갑', 330), ('##지방', 330), ('##페', 328), ('##o', 327), ('이하', 327), ('잉글랜드', 326), ('로마', 326), ('정책', 325), ('##요', 324), ('##기업', 324), ('총리', 322), ('2004', 322), ('##l', 322), ('##두', 322), ('결혼', 321), ('문화', 321), ('남', 321), ('김대중', 321), ('인사', 321), ('##백', 320), ('##판', 320), ('##배', 320), ('역임', 319), ('##B', 319), ('2000', 319), ('##L', 318), ('##혁', 318), ('하고', 317), ('홍', 316), ('경제', 315), ('다른', 315), ('##린', 315), ('왕국', 315), ('##덕', 314), ('##책', 314), ('##언', 313), ('외', 312), ('##행', 311), ('##처', 311), ('문제', 310), ('##반', 310), ('예정', 308), ('주관', 307), ('##길', 307), ('레', 306), ('새로운', 304), ('정당', 304), ('##헌', 304), ('##F', 304), ('구성', 303), ('T', 303), ('대', 303), ('##초', 302), ('##써', 302), ('2005', 302), ('롯데', 301), ('양', 300), ('##심', 300), ('즉위', 298), ('##농', 298), ('유럽', 297), ('2002', 297), ('##M', 297), ('키', 297), ('최근', 297), ('F', 296), ('의장', 296), ('앞', 296), ('당선', 294), ('지방', 294), ('학생', 294), ('##C', 294), ('##니아', 294), ('##y', 293), ('##산업', 293), ('부', 293), ('KBO', 292), ('행정', 292), ('계획', 291), ('##음', 291), ('##우스', 291), ('##순', 290), ('##급', 290), ('네덜란드', 290), ('황', 289), ('위치', 289), ('##커', 289), ('##열', 288), ('대전', 288), ('##패', 288), ('선출', 287), ('##거', 287), ('일부', 287), ('다음', 287), ('G', 287), ('##케', 286), ('국내', 285), ('##앙', 284), ('##발', 283), ('정치인', 282), ('##노동', 282), ('삼', 281), ('##윤', 281), ('월드컵', 281), ('##베', 281), ('역사', 280), ('##려', 280), ('R', 280), ('태어났', 280), ('##교통', 279), ('##복', 279), ('존', 278), ('독립', 278), ('LG', 278), ('100', 278), ('프로그램', 278), ('##즌', 277), ('결국', 276), ('이끌', 275), ('정', 275), ('대구', 274), ('##A', 274), ('다양', 274), ('시리즈', 273), ('영입', 273), ('개발', 273), ('라며', 272), ('##족', 272), ('##N', 271), ('FIFA', 271), ('성', 270), ('특히', 269), ('또', 269), ('강', 269), ('공', 269), ('이를', 269), ('주요', 269), ('V', 268), ('사실', 267), ('조직', 267), ('죽', 266), ('졸업', 266), ('폴란드', 266), ('##될', 266), ('차', 266), ('##지역', 265), ('##r', 263)]\n"
     ]
    }
   ],
   "source": [
    "print(cleaned_counter[600:800])\n",
    "# [UNK] 개수가 동일하게 6313"
   ]
  },
  {
   "cell_type": "code",
   "execution_count": 16,
   "id": "37bde648-a968-4e79-b400-99755a82afa6",
   "metadata": {},
   "outputs": [
    {
     "data": {
      "text/plain": [
       "(24478, 24478)"
      ]
     },
     "execution_count": 16,
     "metadata": {},
     "output_type": "execute_result"
    }
   ],
   "source": [
    "len(raw_counter), len(cleaned_counter)"
   ]
  },
  {
   "cell_type": "markdown",
   "id": "0341e99f-7717-43da-b776-1abfd6401fbf",
   "metadata": {},
   "source": [
    "### 한 번만 등장한 토큰들 따로 추출해서 관찰"
   ]
  },
  {
   "cell_type": "code",
   "execution_count": 17,
   "id": "60661b4a-4623-4aea-939b-1f4f3aaeae48",
   "metadata": {},
   "outputs": [],
   "source": [
    "raw_unique = [key for key, value in raw_counter if value == 1]\n",
    "cleaned_unique = [key for key, value in cleaned_counter if value == 1]"
   ]
  },
  {
   "cell_type": "code",
   "execution_count": 18,
   "id": "9d43b0b3-f60d-45b6-85e5-ca28a59a6254",
   "metadata": {},
   "outputs": [
    {
     "data": {
      "text/plain": [
       "(3345, 3345)"
      ]
     },
     "execution_count": 18,
     "metadata": {},
     "output_type": "execute_result"
    }
   ],
   "source": [
    "len(raw_unique), len(cleaned_unique)"
   ]
  },
  {
   "cell_type": "code",
   "execution_count": 19,
   "id": "40423103-3526-4ee0-abc7-20b551b2c4b6",
   "metadata": {},
   "outputs": [
    {
     "name": "stdout",
     "output_type": "stream",
     "text": [
      "['not', '구치소', '태화', '급수', '##든가', '개개', '##선다', '계모', '수렵', '애견', '캠핑', '찬미', '승천', '골반', '##혈관', '미완성', '꿈꿨', '공경', '장애물', '##상스', '미완', '노약자', '##장고', '악영향', '어림', '결석', '십상', '자몽', '##포도', '자두', '낙태', '죄악', '여섯째', 'OE', '맞물', '헤집', '무언', '뚱뚱', '잠옷', '줍', '봉산', '아토', '인양', 'ㆍ조', 'ㆍ정', '##탤', '분향소', '##즙', '자루', '재빠르']\n"
     ]
    }
   ],
   "source": [
    "print(cleaned_unique[:50])"
   ]
  },
  {
   "cell_type": "code",
   "execution_count": 20,
   "id": "b3b54ce6-9588-4ac8-a308-6590735dfcd8",
   "metadata": {},
   "outputs": [
    {
     "data": {
      "text/plain": [
       "\" '비틀즈'\""
      ]
     },
     "execution_count": 20,
     "metadata": {},
     "output_type": "execute_result"
    }
   ],
   "source": [
    "# entity_list = list(train_dataset['subject_entity']) + list(train_dataset['object_entity'])\n",
    "train_dataset['subject_entity'][0]"
   ]
  },
  {
   "cell_type": "code",
   "execution_count": 21,
   "id": "6c1a0651-5556-40ac-a9fd-b6850d3c3c61",
   "metadata": {},
   "outputs": [
    {
     "data": {
      "text/plain": [
       "'비틀즈'"
      ]
     },
     "execution_count": 21,
     "metadata": {},
     "output_type": "execute_result"
    }
   ],
   "source": [
    "train_dataset['subject_entity'][0][2:-1]"
   ]
  },
  {
   "cell_type": "markdown",
   "id": "ea8cc7eb-bd8d-46ea-8185-2f58f5968b78",
   "metadata": {
    "tags": []
   },
   "source": [
    "### 두 개의 entity 컬럼 추출하여 토큰화 진행"
   ]
  },
  {
   "cell_type": "code",
   "execution_count": 22,
   "id": "cf68779f-4d47-4096-a8f3-e5831d4b5aee",
   "metadata": {},
   "outputs": [],
   "source": [
    "ent_subject = [ent[2:-1] for ent in train_dataset['subject_entity']]\n",
    "ent_object = [ent[2:-1] for ent in train_dataset['object_entity']]\n",
    "entity_list = ent_subject + ent_object"
   ]
  },
  {
   "cell_type": "code",
   "execution_count": 23,
   "id": "e7139041-0717-4353-816b-fa1a1b8b6273",
   "metadata": {},
   "outputs": [
    {
     "data": {
      "text/plain": [
       "['비틀즈',\n",
       " '민주평화당',\n",
       " '광주FC',\n",
       " '아성다이소',\n",
       " '요미우리 자이언츠',\n",
       " '북대서양 조약 기구',\n",
       " 'AC 밀란',\n",
       " '박용오',\n",
       " '중화민국',\n",
       " '안규백']"
      ]
     },
     "execution_count": 23,
     "metadata": {},
     "output_type": "execute_result"
    }
   ],
   "source": [
    "# 중복 제거하면 약 7만개 -> 약 2만개로 줄어든다\n",
    "entity_unique = list(set(entity_list))\n",
    "entity_list[:10]"
   ]
  },
  {
   "cell_type": "code",
   "execution_count": 24,
   "id": "d89d90dc-6d7f-4042-b495-d1c2ecdd7a9f",
   "metadata": {},
   "outputs": [
    {
     "data": {
      "text/plain": [
       "(8874, 64940)"
      ]
     },
     "execution_count": 24,
     "metadata": {},
     "output_type": "execute_result"
    }
   ],
   "source": [
    "entity_counter = total_tokens(entity_list)\n",
    "entity_unique = [key for key, value in entity_counter]\n",
    "len(entity_unique), len(entity_list)"
   ]
  },
  {
   "cell_type": "code",
   "execution_count": 25,
   "id": "ba01bcd1-5858-454c-9b0f-b8de576bbf49",
   "metadata": {},
   "outputs": [
    {
     "data": {
      "text/plain": [
       "[('##년', 3382),\n",
       " ('##일', 1990),\n",
       " ('##당', 1888),\n",
       " ('##세', 1850),\n",
       " ('##월', 1801),\n",
       " ('##스', 1339),\n",
       " ('##군', 1170),\n",
       " ('##대', 816),\n",
       " ('##국', 815),\n",
       " ('1', 810)]"
      ]
     },
     "execution_count": 25,
     "metadata": {},
     "output_type": "execute_result"
    }
   ],
   "source": [
    "entity_counter[:10]"
   ]
  },
  {
   "cell_type": "code",
   "execution_count": 26,
   "id": "71b8a16f-9a6a-42e3-8b70-9ab31d519950",
   "metadata": {},
   "outputs": [
    {
     "data": {
      "text/plain": [
       "['##년', '##일', '##당', '##세', '##월', '##스', '##군', '##대', '##국', '1']"
      ]
     },
     "execution_count": 26,
     "metadata": {},
     "output_type": "execute_result"
    }
   ],
   "source": [
    "entity_unique[:10]"
   ]
  },
  {
   "cell_type": "markdown",
   "id": "455c6dee-308e-47c7-906d-8e458b306cbb",
   "metadata": {},
   "source": [
    "\n",
    "### sentence에서 추출한 token들 중 한 번만 등장하는 token(==cleaned_unique)과\n",
    "### entity에서 추출한 token은 몇 종류나 겹칠까?\n",
    "### -> 적게 등장한 token이 entity에 많이 있는지 관찰하기 위한 작업"
   ]
  },
  {
   "cell_type": "code",
   "execution_count": 27,
   "id": "5edd78d0-d2dc-4924-93ce-351eb7460394",
   "metadata": {},
   "outputs": [],
   "source": [
    "def unique_entity_tokens(entity, unique):\n",
    "    return [ent for ent in entity if ent in unique]"
   ]
  },
  {
   "cell_type": "code",
   "execution_count": 28,
   "id": "86fe09a2-841e-4083-822d-ad066e51325e",
   "metadata": {},
   "outputs": [
    {
     "name": "stdout",
     "output_type": "stream",
     "text": [
      "148\n",
      "['다이오드', '배고픈', '레크', '다이어', '정두언', '김기현', '칼빈', '뽀로로', '##진진', '조바', '스스', '타우', '범어', '포만', '김광석', '##에트', '가재', '##트럼', '식약청', '우동', '치마', '북스', '톨스토이', '퍼시', '김연경', '소연', '아운', '이메', '##뭄', '조윤선', '실러', '##잭', '##튜브', '그자', '머드', '숭실', '라캉', '스팅', '방재', '##나연', '고분', '##캬', '귀여', '모스크', '##코지', '다원', '##대간', '허기', '백설', '엘리엇', '덱', '브러', '렁', '맥아', '서희', '최희', '볼보', '부메', '포티', '난자', '마스카', '##자루', '김황식', '산자', '려', '향료', '손보', '캬', '안종범', '칭기즈칸', '오메가', '뽐', '쁘', '부치', '트렁크', '아만', '라기', '주성', '밍', '박이', '회사원', '호모', '진시황', '순화', '기흥', '엽', '애리', '모세', '양동근', '메트', '박세리', '##상스', '정병국', '깃', '서린', '요미', '##퍽', '##쿠버', '임태희', '울주군', '봅슬레이', '290', '報', '참회', '허상', '##디다', '김영란', 'z', '##쩡', '메커니즘', 'Smart', '단군', '이창호', '##ues', '돈키호테', '##룽지', '클레어', '##고양이', '스노보드', '문진', '##ful', '일병', '##맙', '##outh', '##노위', '239', '051', '##엑', '찍히', '##딩크', '지멘스', '스칼', '하숙', '알카에다', '##높이', '어쩌다', '산수유', '거든', '##icht', '760', '할라', '고칠', '유가증권', '타로', '퇴계', '대감', '##곶', '최하']\n"
     ]
    }
   ],
   "source": [
    "entity_token_unique = unique_entity_tokens(entity_unique, cleaned_unique)\n",
    "print(len(entity_token_unique))\n",
    "print(entity_token_unique)"
   ]
  },
  {
   "cell_type": "markdown",
   "id": "0006a3d3-42a9-4020-ab0e-d769d88792e6",
   "metadata": {},
   "source": [
    "1. UNK 어떻게 처리할지\n",
    "2. 빈도수별 그래프\n",
    "3. 어떤 class에서 UNK이 많이 등장하는지\n",
    "4. 어떤 class에서 빈도수 적은 토큰이 많이 등장하는지"
   ]
  },
  {
   "cell_type": "code",
   "execution_count": 29,
   "id": "65a638c8-4d0b-465c-8614-9480e881c69f",
   "metadata": {},
   "outputs": [],
   "source": [
    "from matplotlib import pyplot as plt\n",
    "import seaborn as sns\n",
    "%matplotlib inline"
   ]
  },
  {
   "cell_type": "code",
   "execution_count": 30,
   "id": "ba1fba93-08be-415f-978a-a232e35920d2",
   "metadata": {},
   "outputs": [
    {
     "data": {
      "image/png": "[encoded data removed]",
      "text/plain": [
       "<Figure size 432x288 with 1 Axes>"
      ]
     },
     "metadata": {
      "needs_background": "light"
     },
     "output_type": "display_data"
    }
   ],
   "source": [
    "log_freq_tokens = np.log([value for key, value in cleaned_counter])\n",
    "x_axis = np.arange(len(log_freq_tokens))\n",
    "plt.plot(x_axis, log_freq_tokens)\n",
    "plt.show()"
   ]
  },
  {
   "cell_type": "code",
   "execution_count": 1,
   "id": "bca489a3-44b1-43e0-b250-b524a4bbd773",
   "metadata": {},
   "outputs": [],
   "source": [
    "import torch"
   ]
  },
  {
   "cell_type": "code",
   "execution_count": 2,
   "id": "11ec45c0-80c3-42cc-9eb5-079010ca30a8",
   "metadata": {},
   "outputs": [],
   "source": [
    "torch.cuda.empty_cache()"
   ]
  },
  {
   "cell_type": "code",
   "execution_count": null,
   "id": "4f157fbb-3808-4637-a222-e850ba10459e",
   "metadata": {},
   "outputs": [],
   "source": []
  }
 ],
 "metadata": {
  "kernelspec": {
   "display_name": "Python 3 (ipykernel)",
   "language": "python",
   "name": "python3"
  },
  "language_info": {
   "codemirror_mode": {
    "name": "ipython",
    "version": 3
   },
   "file_extension": ".py",
   "mimetype": "text/x-python",
   "name": "python",
   "nbconvert_exporter": "python",
   "pygments_lexer": "ipython3",
   "version": "3.8.5"
  }
 },
 "nbformat": 4,
 "nbformat_minor": 5
}
